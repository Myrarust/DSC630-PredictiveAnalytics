{
 "cells": [
  {
   "cell_type": "code",
   "execution_count": 1,
   "metadata": {},
   "outputs": [],
   "source": [
    "# Set working directory\n",
    "setwd(\"C:\\\\Users\\\\myraw\\\\Jupyter\\\\DSC630\")"
   ]
  },
  {
   "cell_type": "code",
   "execution_count": 81,
   "metadata": {
    "scrolled": false
   },
   "outputs": [
    {
     "data": {
      "text/html": [
       "<table>\n",
       "<thead><tr><th scope=col>month</th><th scope=col>day</th><th scope=col>attend</th><th scope=col>day_of_week</th><th scope=col>opponent</th><th scope=col>temp</th><th scope=col>skies</th><th scope=col>day_night</th><th scope=col>cap</th><th scope=col>shirt</th><th scope=col>fireworks</th><th scope=col>bobblehead</th></tr></thead>\n",
       "<tbody>\n",
       "\t<tr><td>APR      </td><td>10       </td><td>56000    </td><td>Tuesday  </td><td>Pirates  </td><td>67       </td><td>Clear    </td><td>Day      </td><td>NO       </td><td>NO       </td><td>NO       </td><td>NO       </td></tr>\n",
       "\t<tr><td>APR      </td><td>11       </td><td>29729    </td><td>Wednesday</td><td>Pirates  </td><td>58       </td><td>Cloudy   </td><td>Night    </td><td>NO       </td><td>NO       </td><td>NO       </td><td>NO       </td></tr>\n",
       "\t<tr><td>APR      </td><td>12       </td><td>28328    </td><td>Thursday </td><td>Pirates  </td><td>57       </td><td>Cloudy   </td><td>Night    </td><td>NO       </td><td>NO       </td><td>NO       </td><td>NO       </td></tr>\n",
       "\t<tr><td>APR      </td><td>13       </td><td>31601    </td><td>Friday   </td><td>Padres   </td><td>54       </td><td>Cloudy   </td><td>Night    </td><td>NO       </td><td>NO       </td><td>YES      </td><td>NO       </td></tr>\n",
       "\t<tr><td>APR      </td><td>14       </td><td>46549    </td><td>Saturday </td><td>Padres   </td><td>57       </td><td>Cloudy   </td><td>Night    </td><td>NO       </td><td>NO       </td><td>NO       </td><td>NO       </td></tr>\n",
       "\t<tr><td>APR      </td><td>15       </td><td>38359    </td><td>Sunday   </td><td>Padres   </td><td>65       </td><td>Clear    </td><td>Day      </td><td>NO       </td><td>NO       </td><td>NO       </td><td>NO       </td></tr>\n",
       "</tbody>\n",
       "</table>\n"
      ],
      "text/latex": [
       "\\begin{tabular}{r|llllllllllll}\n",
       " month & day & attend & day\\_of\\_week & opponent & temp & skies & day\\_night & cap & shirt & fireworks & bobblehead\\\\\n",
       "\\hline\n",
       "\t APR       & 10        & 56000     & Tuesday   & Pirates   & 67        & Clear     & Day       & NO        & NO        & NO        & NO       \\\\\n",
       "\t APR       & 11        & 29729     & Wednesday & Pirates   & 58        & Cloudy    & Night     & NO        & NO        & NO        & NO       \\\\\n",
       "\t APR       & 12        & 28328     & Thursday  & Pirates   & 57        & Cloudy    & Night     & NO        & NO        & NO        & NO       \\\\\n",
       "\t APR       & 13        & 31601     & Friday    & Padres    & 54        & Cloudy    & Night     & NO        & NO        & YES       & NO       \\\\\n",
       "\t APR       & 14        & 46549     & Saturday  & Padres    & 57        & Cloudy    & Night     & NO        & NO        & NO        & NO       \\\\\n",
       "\t APR       & 15        & 38359     & Sunday    & Padres    & 65        & Clear     & Day       & NO        & NO        & NO        & NO       \\\\\n",
       "\\end{tabular}\n"
      ],
      "text/markdown": [
       "\n",
       "| month | day | attend | day_of_week | opponent | temp | skies | day_night | cap | shirt | fireworks | bobblehead |\n",
       "|---|---|---|---|---|---|---|---|---|---|---|---|\n",
       "| APR       | 10        | 56000     | Tuesday   | Pirates   | 67        | Clear     | Day       | NO        | NO        | NO        | NO        |\n",
       "| APR       | 11        | 29729     | Wednesday | Pirates   | 58        | Cloudy    | Night     | NO        | NO        | NO        | NO        |\n",
       "| APR       | 12        | 28328     | Thursday  | Pirates   | 57        | Cloudy    | Night     | NO        | NO        | NO        | NO        |\n",
       "| APR       | 13        | 31601     | Friday    | Padres    | 54        | Cloudy    | Night     | NO        | NO        | YES       | NO        |\n",
       "| APR       | 14        | 46549     | Saturday  | Padres    | 57        | Cloudy    | Night     | NO        | NO        | NO        | NO        |\n",
       "| APR       | 15        | 38359     | Sunday    | Padres    | 65        | Clear     | Day       | NO        | NO        | NO        | NO        |\n",
       "\n"
      ],
      "text/plain": [
       "  month day attend day_of_week opponent temp skies  day_night cap shirt\n",
       "1 APR   10  56000  Tuesday     Pirates  67   Clear  Day       NO  NO   \n",
       "2 APR   11  29729  Wednesday   Pirates  58   Cloudy Night     NO  NO   \n",
       "3 APR   12  28328  Thursday    Pirates  57   Cloudy Night     NO  NO   \n",
       "4 APR   13  31601  Friday      Padres   54   Cloudy Night     NO  NO   \n",
       "5 APR   14  46549  Saturday    Padres   57   Cloudy Night     NO  NO   \n",
       "6 APR   15  38359  Sunday      Padres   65   Clear  Day       NO  NO   \n",
       "  fireworks bobblehead\n",
       "1 NO        NO        \n",
       "2 NO        NO        \n",
       "3 NO        NO        \n",
       "4 YES       NO        \n",
       "5 NO        NO        \n",
       "6 NO        NO        "
      ]
     },
     "metadata": {},
     "output_type": "display_data"
    }
   ],
   "source": [
    "dodgers <- read.csv(file = 'dodgers.csv')\n",
    "head(dodgers)"
   ]
  },
  {
   "cell_type": "code",
   "execution_count": 29,
   "metadata": {},
   "outputs": [
    {
     "data": {
      "text/html": [
       "<dl>\n",
       "\t<dt>$month</dt>\n",
       "\t\t<dd>'factor'</dd>\n",
       "\t<dt>$day</dt>\n",
       "\t\t<dd>'integer'</dd>\n",
       "\t<dt>$attend</dt>\n",
       "\t\t<dd>'integer'</dd>\n",
       "\t<dt>$day_of_week</dt>\n",
       "\t\t<dd>'factor'</dd>\n",
       "\t<dt>$opponent</dt>\n",
       "\t\t<dd>'factor'</dd>\n",
       "\t<dt>$temp</dt>\n",
       "\t\t<dd>'integer'</dd>\n",
       "\t<dt>$skies</dt>\n",
       "\t\t<dd>'factor'</dd>\n",
       "\t<dt>$day_night</dt>\n",
       "\t\t<dd>'factor'</dd>\n",
       "\t<dt>$cap</dt>\n",
       "\t\t<dd>'factor'</dd>\n",
       "\t<dt>$shirt</dt>\n",
       "\t\t<dd>'factor'</dd>\n",
       "\t<dt>$fireworks</dt>\n",
       "\t\t<dd>'factor'</dd>\n",
       "\t<dt>$bobblehead</dt>\n",
       "\t\t<dd>'factor'</dd>\n",
       "</dl>\n"
      ],
      "text/latex": [
       "\\begin{description}\n",
       "\\item[\\$month] 'factor'\n",
       "\\item[\\$day] 'integer'\n",
       "\\item[\\$attend] 'integer'\n",
       "\\item[\\$day\\_of\\_week] 'factor'\n",
       "\\item[\\$opponent] 'factor'\n",
       "\\item[\\$temp] 'integer'\n",
       "\\item[\\$skies] 'factor'\n",
       "\\item[\\$day\\_night] 'factor'\n",
       "\\item[\\$cap] 'factor'\n",
       "\\item[\\$shirt] 'factor'\n",
       "\\item[\\$fireworks] 'factor'\n",
       "\\item[\\$bobblehead] 'factor'\n",
       "\\end{description}\n"
      ],
      "text/markdown": [
       "$month\n",
       ":   'factor'\n",
       "$day\n",
       ":   'integer'\n",
       "$attend\n",
       ":   'integer'\n",
       "$day_of_week\n",
       ":   'factor'\n",
       "$opponent\n",
       ":   'factor'\n",
       "$temp\n",
       ":   'integer'\n",
       "$skies\n",
       ":   'factor'\n",
       "$day_night\n",
       ":   'factor'\n",
       "$cap\n",
       ":   'factor'\n",
       "$shirt\n",
       ":   'factor'\n",
       "$fireworks\n",
       ":   'factor'\n",
       "$bobblehead\n",
       ":   'factor'\n",
       "\n",
       "\n"
      ],
      "text/plain": [
       "$month\n",
       "[1] \"factor\"\n",
       "\n",
       "$day\n",
       "[1] \"integer\"\n",
       "\n",
       "$attend\n",
       "[1] \"integer\"\n",
       "\n",
       "$day_of_week\n",
       "[1] \"factor\"\n",
       "\n",
       "$opponent\n",
       "[1] \"factor\"\n",
       "\n",
       "$temp\n",
       "[1] \"integer\"\n",
       "\n",
       "$skies\n",
       "[1] \"factor\"\n",
       "\n",
       "$day_night\n",
       "[1] \"factor\"\n",
       "\n",
       "$cap\n",
       "[1] \"factor\"\n",
       "\n",
       "$shirt\n",
       "[1] \"factor\"\n",
       "\n",
       "$fireworks\n",
       "[1] \"factor\"\n",
       "\n",
       "$bobblehead\n",
       "[1] \"factor\"\n"
      ]
     },
     "metadata": {},
     "output_type": "display_data"
    }
   ],
   "source": [
    "# Check the class of all the columns in dataset\n",
    "lapply(dodgers, class)"
   ]
  },
  {
   "cell_type": "markdown",
   "metadata": {},
   "source": [
    "First, I am going to do some exploratory data analysis to determine what approach might be best. I am looking for any stand out deficiencies in attendance rates by month or day of the week to help determine where our marketing promo might have the greatest impact."
   ]
  },
  {
   "cell_type": "code",
   "execution_count": 83,
   "metadata": {
    "scrolled": false
   },
   "outputs": [
    {
     "data": {
      "image/png": "[encoded data removed]",
      "text/plain": [
       "Plot with title \"Histogram of attendance\""
      ]
     },
     "metadata": {},
     "output_type": "display_data"
    }
   ],
   "source": [
    "# Look at the histogram for attendance\n",
    "attendance <- dodgers$attend\n",
    "hist(attendance)"
   ]
  },
  {
   "cell_type": "code",
   "execution_count": 2,
   "metadata": {},
   "outputs": [],
   "source": [
    "# Reoder days of the week to appear in chronological order versus alphabetical\n",
    "dodgers$day_of_week <- factor(dodgers$day_of_week , levels=c(\"Sunday\", \"Monday\", \"Tuesday\", \"Wednesday\", \"Thursday\",\n",
    "                                                            \"Friday\", \"Saturday\"))"
   ]
  },
  {
   "cell_type": "code",
   "execution_count": 14,
   "metadata": {},
   "outputs": [
    {
     "data": {
      "image/png": "[encoded data removed]",
      "text/plain": [
       "Plot with title \"Attendance by Weekday\""
      ]
     },
     "metadata": {},
     "output_type": "display_data"
    }
   ],
   "source": [
    "# Look at boxplot for attendance by day of week\n",
    "boxplot(attend~day_of_week,data=dodgers, main=\"Attendance by Weekday\",\n",
    "   xlab=\"Day of the Week\", ylab=\"Number in Attendance\")"
   ]
  },
  {
   "cell_type": "code",
   "execution_count": 3,
   "metadata": {},
   "outputs": [],
   "source": [
    "# Reoder months to appear in chronological order versus alphabetical\n",
    "dodgers$month <- factor(dodgers$month , levels=c(\"APR\", \"MAY\", \"JUN\", \"JUL\", \"AUG\", \"SEP\", \"OCT\"))"
   ]
  },
  {
   "cell_type": "code",
   "execution_count": 16,
   "metadata": {},
   "outputs": [
    {
     "data": {
      "image/png": "[encoded data removed]",
      "text/plain": [
       "Plot with title \"Attendance by Month\""
      ]
     },
     "metadata": {},
     "output_type": "display_data"
    }
   ],
   "source": [
    "boxplot(attend~month,data=dodgers, main=\"Attendance by Month\",\n",
    "   xlab=\"Month\", ylab=\"Number in Attendance\")"
   ]
  },
  {
   "cell_type": "code",
   "execution_count": 4,
   "metadata": {},
   "outputs": [
    {
     "name": "stderr",
     "output_type": "stream",
     "text": [
      "Warning message:\n",
      "\"package 'ggplot2' was built under R version 3.6.3\""
     ]
    },
    {
     "data": {
      "image/png": "[encoded data removed]",
      "text/plain": [
       "plot without title"
      ]
     },
     "metadata": {},
     "output_type": "display_data"
    }
   ],
   "source": [
    "#Import ggplot library\n",
    "library(ggplot2)\n",
    "\n",
    "# Creat scatterplot\n",
    "ggplot(dodgers, aes(x = day_of_week, y = attend)) +\n",
    "  geom_point(aes(color = month)) "
   ]
  },
  {
   "cell_type": "markdown",
   "metadata": {},
   "source": [
    "Mondays and Wednesdays definitely stick out as far as low attendance goes. A couple months don't look so hot (May and Oct), but when I plotted attendance by day of week and month, it appears that Mondays, Wednesdays, and Thursdays in May and April generally have the worst attendance (less that 30000 per game). \n",
    "\n",
    "Before creating a model, I want to use RFE to find out what variables have the most influence over attendance."
   ]
  },
  {
   "cell_type": "code",
   "execution_count": 35,
   "metadata": {},
   "outputs": [],
   "source": [
    "# Install packages to use RFE \n",
    "library(\"dplyr\")\n",
    "library(\"faux\")\n",
    "library(\"DataExplorer\")\n",
    "library(\"caret\")\n",
    "library(\"randomForest\")"
   ]
  },
  {
   "cell_type": "code",
   "execution_count": 36,
   "metadata": {},
   "outputs": [],
   "source": [
    "# Define the control using a random forest selection function\n",
    "control <- rfeControl(functions = rfFuncs, # random forest\n",
    "                      method = \"repeatedcv\", # repeated cv\n",
    "                      repeats = 5, # number of repeats\n",
    "                      number = 10) # number of folds"
   ]
  },
  {
   "cell_type": "code",
   "execution_count": 42,
   "metadata": {},
   "outputs": [],
   "source": [
    "# Split data into train-test sets\n",
    "\n",
    "# Features\n",
    "x <- dodgers %>%\n",
    "  select(-attend) %>%\n",
    "  as.data.frame()\n",
    "\n",
    "# Target variable\n",
    "y <- dodgers$attend\n",
    "\n",
    "# Training: 80%; Test: 20%\n",
    "set.seed(2021)\n",
    "inTrain <- createDataPartition(y, p = .80, list = FALSE)[,1]\n",
    "\n",
    "x_train <- x[ inTrain, ]\n",
    "x_test  <- x[-inTrain, ]\n",
    "\n",
    "y_train <- y[ inTrain]\n",
    "y_test  <- y[-inTrain]"
   ]
  },
  {
   "cell_type": "code",
   "execution_count": 43,
   "metadata": {
    "scrolled": false
   },
   "outputs": [
    {
     "data": {
      "text/plain": [
       "\n",
       "Recursive feature selection\n",
       "\n",
       "Outer resampling method: Cross-Validated (10 fold, repeated 5 times) \n",
       "\n",
       "Resampling performance over subset size:\n",
       "\n",
       " Variables RMSE Rsquared  MAE RMSESD RsquaredSD  MAESD Selected\n",
       "         1 7162   0.4683 5815   1544     0.2216 1335.3         \n",
       "         2 7460   0.3056 5961   1358     0.2434 1254.2         \n",
       "         3 7218   0.3511 5782   1323     0.2718 1280.1         \n",
       "         4 7143   0.3648 5822   1130     0.2740 1008.0         \n",
       "         5 7137   0.3745 5850   1131     0.2780 1046.0         \n",
       "         6 7120   0.3430 5850   1094     0.2693  881.5         \n",
       "         7 7096   0.3573 5859   1108     0.2779  931.0         \n",
       "         8 7053   0.3637 5817   1053     0.2727  851.2         \n",
       "         9 7076   0.3573 5837   1071     0.2652  871.7         \n",
       "        10 7034   0.3658 5799   1066     0.2735  871.3        *\n",
       "        11 7045   0.3640 5825   1030     0.2720  868.9         \n",
       "\n",
       "The top 5 variables (out of 10):\n",
       "   bobblehead, day_of_week, opponent, month, temp\n"
      ]
     },
     "metadata": {},
     "output_type": "display_data"
    },
    {
     "data": {
      "text/html": [
       "<ol class=list-inline>\n",
       "\t<li>'bobblehead'</li>\n",
       "\t<li>'day_of_week'</li>\n",
       "\t<li>'opponent'</li>\n",
       "\t<li>'month'</li>\n",
       "\t<li>'temp'</li>\n",
       "\t<li>'shirt'</li>\n",
       "\t<li>'fireworks'</li>\n",
       "\t<li>'day'</li>\n",
       "\t<li>'cap'</li>\n",
       "\t<li>'day_night'</li>\n",
       "</ol>\n"
      ],
      "text/latex": [
       "\\begin{enumerate*}\n",
       "\\item 'bobblehead'\n",
       "\\item 'day\\_of\\_week'\n",
       "\\item 'opponent'\n",
       "\\item 'month'\n",
       "\\item 'temp'\n",
       "\\item 'shirt'\n",
       "\\item 'fireworks'\n",
       "\\item 'day'\n",
       "\\item 'cap'\n",
       "\\item 'day\\_night'\n",
       "\\end{enumerate*}\n"
      ],
      "text/markdown": [
       "1. 'bobblehead'\n",
       "2. 'day_of_week'\n",
       "3. 'opponent'\n",
       "4. 'month'\n",
       "5. 'temp'\n",
       "6. 'shirt'\n",
       "7. 'fireworks'\n",
       "8. 'day'\n",
       "9. 'cap'\n",
       "10. 'day_night'\n",
       "\n",
       "\n"
      ],
      "text/plain": [
       " [1] \"bobblehead\"  \"day_of_week\" \"opponent\"    \"month\"       \"temp\"       \n",
       " [6] \"shirt\"       \"fireworks\"   \"day\"         \"cap\"         \"day_night\"  "
      ]
     },
     "metadata": {},
     "output_type": "display_data"
    }
   ],
   "source": [
    "# Run RFE\n",
    "result_rfe1 <- rfe(x = x_train, \n",
    "                   y = y_train, \n",
    "                   sizes = c(1:11),\n",
    "                   rfeControl = control)\n",
    "\n",
    "# Print the results\n",
    "result_rfe1\n",
    "\n",
    "# Print the selected features\n",
    "predictors(result_rfe1)"
   ]
  },
  {
   "cell_type": "code",
   "execution_count": 80,
   "metadata": {},
   "outputs": [
    {
     "data": {
      "image/png": "[encoded data removed]",
      "text/plain": [
       "plot without title"
      ]
     },
     "metadata": {},
     "output_type": "display_data"
    }
   ],
   "source": [
    "# Plot the RFE results\n",
    "plot(result_rfe1, type=c(\"g\", \"o\"))"
   ]
  },
  {
   "cell_type": "code",
   "execution_count": 73,
   "metadata": {
    "scrolled": true
   },
   "outputs": [
    {
     "data": {
      "text/html": [
       "<dl class=dl-horizontal>\n",
       "\t<dt>RMSE</dt>\n",
       "\t\t<dd>7428.48765690282</dd>\n",
       "\t<dt>Rsquared</dt>\n",
       "\t\t<dd>0.183578718325904</dd>\n",
       "\t<dt>MAE</dt>\n",
       "\t\t<dd>5940.22107138276</dd>\n",
       "</dl>\n"
      ],
      "text/latex": [
       "\\begin{description*}\n",
       "\\item[RMSE] 7428.48765690282\n",
       "\\item[Rsquared] 0.183578718325904\n",
       "\\item[MAE] 5940.22107138276\n",
       "\\end{description*}\n"
      ],
      "text/markdown": [
       "RMSE\n",
       ":   7428.48765690282Rsquared\n",
       ":   0.183578718325904MAE\n",
       ":   5940.22107138276\n",
       "\n"
      ],
      "text/plain": [
       "        RMSE     Rsquared          MAE \n",
       "7428.4876569    0.1835787 5940.2210714 "
      ]
     },
     "metadata": {},
     "output_type": "display_data"
    }
   ],
   "source": [
    "# Use the model on test data\n",
    "postResample(predict(result_rfe1, x_test), y_test)"
   ]
  },
  {
   "cell_type": "code",
   "execution_count": 49,
   "metadata": {
    "scrolled": false
   },
   "outputs": [
    {
     "data": {
      "image/png": "[encoded data removed]",
      "text/plain": [
       "Plot with title \"Attendance by Bobblehead\""
      ]
     },
     "metadata": {},
     "output_type": "display_data"
    }
   ],
   "source": [
    "# RFE recommended that 10 features be used for our model.\n",
    "# Because of feature selection results I want to take a look at the boxplot for bobbleheads\n",
    "boxplot(attend~bobblehead,data=dodgers, main=\"Attendance by Bobblehead\",\n",
    "   xlab=\"Bobblehead\", ylab=\"Number in Attendance\")"
   ]
  },
  {
   "cell_type": "code",
   "execution_count": 59,
   "metadata": {},
   "outputs": [],
   "source": [
    "# Now I am going to create a few models and use the anova test\n",
    "\n",
    "# create baseline model for attendance. Use poisson regression model because attend is count data.\n",
    "model_base <- glm(attend ~ 1, family = \"poisson\", data=dodgers)\n",
    "\n",
    "# create model for attendance by days of week. \n",
    "model_days <- glm(attend ~ day_of_week, family = \"poisson\", data=dodgers)\n",
    "\n",
    "# create model for attendance by days of week and month\n",
    "model_both <- glm(attend ~ day_of_week + month, family = \"poisson\", data=dodgers)\n",
    "\n",
    "# create modelrecommended by RFE\n",
    "model_rfe <- glm(attend ~ day_of_week + opponent + month + bobblehead + temp + shirt + fireworks + day + cap + day_night,\n",
    "                 family = \"poisson\", data=dodgers)"
   ]
  },
  {
   "cell_type": "code",
   "execution_count": 74,
   "metadata": {
    "scrolled": false
   },
   "outputs": [
    {
     "data": {
      "text/html": [
       "<table>\n",
       "<thead><tr><th scope=col>Resid. Df</th><th scope=col>Resid. Dev</th><th scope=col>Df</th><th scope=col>Deviance</th></tr></thead>\n",
       "<tbody>\n",
       "\t<tr><td>80       </td><td>135065.17</td><td>NA       </td><td>      NA </td></tr>\n",
       "\t<tr><td>74       </td><td>104517.80</td><td> 6       </td><td>30547.37 </td></tr>\n",
       "\t<tr><td>68       </td><td> 80314.34</td><td> 6       </td><td>24203.46 </td></tr>\n",
       "\t<tr><td>45       </td><td> 41725.39</td><td>23       </td><td>38588.95 </td></tr>\n",
       "</tbody>\n",
       "</table>\n"
      ],
      "text/latex": [
       "\\begin{tabular}{r|llll}\n",
       " Resid. Df & Resid. Dev & Df & Deviance\\\\\n",
       "\\hline\n",
       "\t 80        & 135065.17 & NA        &       NA \\\\\n",
       "\t 74        & 104517.80 &  6        & 30547.37 \\\\\n",
       "\t 68        &  80314.34 &  6        & 24203.46 \\\\\n",
       "\t 45        &  41725.39 & 23        & 38588.95 \\\\\n",
       "\\end{tabular}\n"
      ],
      "text/markdown": [
       "\n",
       "| Resid. Df | Resid. Dev | Df | Deviance |\n",
       "|---|---|---|---|\n",
       "| 80        | 135065.17 | NA        |       NA  |\n",
       "| 74        | 104517.80 |  6        | 30547.37  |\n",
       "| 68        |  80314.34 |  6        | 24203.46  |\n",
       "| 45        |  41725.39 | 23        | 38588.95  |\n",
       "\n"
      ],
      "text/plain": [
       "  Resid. Df Resid. Dev Df Deviance\n",
       "1 80        135065.17  NA       NA\n",
       "2 74        104517.80   6 30547.37\n",
       "3 68         80314.34   6 24203.46\n",
       "4 45         41725.39  23 38588.95"
      ]
     },
     "metadata": {},
     "output_type": "display_data"
    }
   ],
   "source": [
    "# Compare models\n",
    "anova(model_base, model_days, model_both, model_rfe)"
   ]
  },
  {
   "cell_type": "code",
   "execution_count": 69,
   "metadata": {
    "scrolled": false
   },
   "outputs": [
    {
     "data": {
      "text/plain": [
       "\n",
       "Call:\n",
       "glm(formula = attend ~ day_of_week + opponent + month + bobblehead + \n",
       "    temp + shirt + fireworks + day + cap + day_night, family = \"poisson\", \n",
       "    data = dodgers)\n",
       "\n",
       "Deviance Residuals: \n",
       "    Min       1Q   Median       3Q      Max  \n",
       "-46.441  -17.190   -0.601    7.773   62.856  \n",
       "\n",
       "Coefficients:\n",
       "                       Estimate Std. Error z value Pr(>|z|)    \n",
       "(Intercept)          10.7196804  0.0138345 774.852  < 2e-16 ***\n",
       "day_of_weekMonday    -0.0179428  0.0040756  -4.403 1.07e-05 ***\n",
       "day_of_weekTuesday    0.2009465  0.0039921  50.336  < 2e-16 ***\n",
       "day_of_weekWednesday -0.0126775  0.0038755  -3.271  0.00107 ** \n",
       "day_of_weekThursday   0.0076039  0.0046081   1.650  0.09891 .  \n",
       "day_of_weekFriday    -0.4340108  0.0073674 -58.910  < 2e-16 ***\n",
       "day_of_weekSaturday   0.0729555  0.0031977  22.815  < 2e-16 ***\n",
       "opponentAstros       -0.5187919  0.0114120 -45.460  < 2e-16 ***\n",
       "opponentBraves       -0.5008576  0.0111279 -45.009  < 2e-16 ***\n",
       "opponentBrewers      -0.5894965  0.0121561 -48.494  < 2e-16 ***\n",
       "opponentCardinals    -0.3166021  0.0103432 -30.610  < 2e-16 ***\n",
       "opponentCubs         -0.2573975  0.0099225 -25.941  < 2e-16 ***\n",
       "opponentGiants       -0.4343812  0.0105113 -41.325  < 2e-16 ***\n",
       "opponentMarlins      -0.4684950  0.0110484 -42.404  < 2e-16 ***\n",
       "opponentMets         -0.1031137  0.0049801 -20.705  < 2e-16 ***\n",
       "opponentNationals    -0.1855830  0.0109833 -16.897  < 2e-16 ***\n",
       "opponentPadres       -0.2735250  0.0088208 -31.009  < 2e-16 ***\n",
       "opponentPhillies     -0.3348028  0.0100148 -33.431  < 2e-16 ***\n",
       "opponentPirates      -0.3250357  0.0107596 -30.209  < 2e-16 ***\n",
       "opponentReds         -0.4044556  0.0095943 -42.156  < 2e-16 ***\n",
       "opponentRockies      -0.4266107  0.0101985 -41.831  < 2e-16 ***\n",
       "opponentSnakes       -0.4975249  0.0101226 -49.150  < 2e-16 ***\n",
       "opponentWhite Sox    -0.0043519  0.0044275  -0.983  0.32564    \n",
       "monthMAY              0.0997543  0.0051015  19.554  < 2e-16 ***\n",
       "monthJUN             -0.1153495  0.0095664 -12.058  < 2e-16 ***\n",
       "monthJUL              0.0811355  0.0051108  15.875  < 2e-16 ***\n",
       "monthAUG              0.1766884  0.0062892  28.094  < 2e-16 ***\n",
       "monthSEP              0.0546010  0.0064094   8.519  < 2e-16 ***\n",
       "monthOCT              0.1152253  0.0080424  14.327  < 2e-16 ***\n",
       "bobbleheadYES         0.1923710  0.0025538  75.328  < 2e-16 ***\n",
       "temp                  0.0014737  0.0002031   7.257 3.95e-13 ***\n",
       "shirtYES              0.0331600  0.0035912   9.234  < 2e-16 ***\n",
       "fireworksYES          0.4695285  0.0066310  70.809  < 2e-16 ***\n",
       "day                   0.0037936  0.0001188  31.929  < 2e-16 ***\n",
       "capYES               -0.1571928  0.0049314 -31.876  < 2e-16 ***\n",
       "day_nightNight       -0.0828032  0.0029574 -27.999  < 2e-16 ***\n",
       "---\n",
       "Signif. codes:  0 '***' 0.001 '**' 0.01 '*' 0.05 '.' 0.1 ' ' 1\n",
       "\n",
       "(Dispersion parameter for poisson family taken to be 1)\n",
       "\n",
       "    Null deviance: 135065  on 80  degrees of freedom\n",
       "Residual deviance:  41725  on 45  degrees of freedom\n",
       "AIC: 42805\n",
       "\n",
       "Number of Fisher Scoring iterations: 4\n"
      ]
     },
     "metadata": {},
     "output_type": "display_data"
    }
   ],
   "source": [
    "# The RFE recommended model had lower residual deviance, meaning it was a better fit and an R2 of 0.68, which is substantial.\n",
    "# Let's take a look at the summary for it.\n",
    "summary(model_rfe)"
   ]
  },
  {
   "cell_type": "markdown",
   "metadata": {},
   "source": [
    "***Upon conducting analysis of the data my recommendation would be to run the marketing promo on Mondays in October. May has less attendees on Mondays in total, but October presents a slightly larger capacity for impact on attendance numbers. For the promotion, fireworks is the leading promotion, should that not be available, bobbleheads make the second most impact to total number of attendees.***"
   ]
  }
 ],
 "metadata": {
  "kernelspec": {
   "display_name": "R",
   "language": "R",
   "name": "ir"
  },
  "language_info": {
   "codemirror_mode": "r",
   "file_extension": ".r",
   "mimetype": "text/x-r-source",
   "name": "R",
   "pygments_lexer": "r",
   "version": "3.6.1"
  }
 },
 "nbformat": 4,
 "nbformat_minor": 4
}
