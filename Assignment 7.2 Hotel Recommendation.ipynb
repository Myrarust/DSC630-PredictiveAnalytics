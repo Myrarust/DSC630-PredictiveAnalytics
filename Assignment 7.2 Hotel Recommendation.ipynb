{
 "cells": [
  {
   "cell_type": "code",
   "execution_count": 1,
   "metadata": {},
   "outputs": [],
   "source": [
    "# Import libraries\n",
    "import pandas as pd\n",
    "import numpy as np\n",
    "import matplotlib.pyplot as plt\n",
    "import seaborn as sns"
   ]
  },
  {
   "cell_type": "code",
   "execution_count": 2,
   "metadata": {},
   "outputs": [
    {
     "data": {
      "text/html": [
       "<div>\n",
       "<style scoped>\n",
       "    .dataframe tbody tr th:only-of-type {\n",
       "        vertical-align: middle;\n",
       "    }\n",
       "\n",
       "    .dataframe tbody tr th {\n",
       "        vertical-align: top;\n",
       "    }\n",
       "\n",
       "    .dataframe thead th {\n",
       "        text-align: right;\n",
       "    }\n",
       "</style>\n",
       "<table border=\"1\" class=\"dataframe\">\n",
       "  <thead>\n",
       "    <tr style=\"text-align: right;\">\n",
       "      <th></th>\n",
       "      <th>srch_destination_id</th>\n",
       "      <th>d1</th>\n",
       "      <th>d2</th>\n",
       "      <th>d3</th>\n",
       "      <th>d4</th>\n",
       "      <th>d5</th>\n",
       "      <th>d6</th>\n",
       "      <th>d7</th>\n",
       "      <th>d8</th>\n",
       "      <th>d9</th>\n",
       "      <th>...</th>\n",
       "      <th>d140</th>\n",
       "      <th>d141</th>\n",
       "      <th>d142</th>\n",
       "      <th>d143</th>\n",
       "      <th>d144</th>\n",
       "      <th>d145</th>\n",
       "      <th>d146</th>\n",
       "      <th>d147</th>\n",
       "      <th>d148</th>\n",
       "      <th>d149</th>\n",
       "    </tr>\n",
       "  </thead>\n",
       "  <tbody>\n",
       "    <tr>\n",
       "      <th>0</th>\n",
       "      <td>0</td>\n",
       "      <td>-2.198657</td>\n",
       "      <td>-2.198657</td>\n",
       "      <td>-2.198657</td>\n",
       "      <td>-2.198657</td>\n",
       "      <td>-2.198657</td>\n",
       "      <td>-1.897627</td>\n",
       "      <td>-2.198657</td>\n",
       "      <td>-2.198657</td>\n",
       "      <td>-1.897627</td>\n",
       "      <td>...</td>\n",
       "      <td>-2.198657</td>\n",
       "      <td>-2.198657</td>\n",
       "      <td>-2.198657</td>\n",
       "      <td>-2.198657</td>\n",
       "      <td>-2.198657</td>\n",
       "      <td>-2.198657</td>\n",
       "      <td>-2.198657</td>\n",
       "      <td>-2.198657</td>\n",
       "      <td>-2.198657</td>\n",
       "      <td>-2.198657</td>\n",
       "    </tr>\n",
       "    <tr>\n",
       "      <th>1</th>\n",
       "      <td>1</td>\n",
       "      <td>-2.181690</td>\n",
       "      <td>-2.181690</td>\n",
       "      <td>-2.181690</td>\n",
       "      <td>-2.082564</td>\n",
       "      <td>-2.181690</td>\n",
       "      <td>-2.165028</td>\n",
       "      <td>-2.181690</td>\n",
       "      <td>-2.181690</td>\n",
       "      <td>-2.031597</td>\n",
       "      <td>...</td>\n",
       "      <td>-2.165028</td>\n",
       "      <td>-2.181690</td>\n",
       "      <td>-2.165028</td>\n",
       "      <td>-2.181690</td>\n",
       "      <td>-2.181690</td>\n",
       "      <td>-2.165028</td>\n",
       "      <td>-2.181690</td>\n",
       "      <td>-2.181690</td>\n",
       "      <td>-2.181690</td>\n",
       "      <td>-2.181690</td>\n",
       "    </tr>\n",
       "    <tr>\n",
       "      <th>2</th>\n",
       "      <td>2</td>\n",
       "      <td>-2.183490</td>\n",
       "      <td>-2.224164</td>\n",
       "      <td>-2.224164</td>\n",
       "      <td>-2.189562</td>\n",
       "      <td>-2.105819</td>\n",
       "      <td>-2.075407</td>\n",
       "      <td>-2.224164</td>\n",
       "      <td>-2.118483</td>\n",
       "      <td>-2.140393</td>\n",
       "      <td>...</td>\n",
       "      <td>-2.224164</td>\n",
       "      <td>-2.224164</td>\n",
       "      <td>-2.196379</td>\n",
       "      <td>-2.224164</td>\n",
       "      <td>-2.192009</td>\n",
       "      <td>-2.224164</td>\n",
       "      <td>-2.224164</td>\n",
       "      <td>-2.224164</td>\n",
       "      <td>-2.224164</td>\n",
       "      <td>-2.057548</td>\n",
       "    </tr>\n",
       "    <tr>\n",
       "      <th>3</th>\n",
       "      <td>3</td>\n",
       "      <td>-2.177409</td>\n",
       "      <td>-2.177409</td>\n",
       "      <td>-2.177409</td>\n",
       "      <td>-2.177409</td>\n",
       "      <td>-2.177409</td>\n",
       "      <td>-2.115485</td>\n",
       "      <td>-2.177409</td>\n",
       "      <td>-2.177409</td>\n",
       "      <td>-2.177409</td>\n",
       "      <td>...</td>\n",
       "      <td>-2.161081</td>\n",
       "      <td>-2.177409</td>\n",
       "      <td>-2.177409</td>\n",
       "      <td>-2.177409</td>\n",
       "      <td>-2.177409</td>\n",
       "      <td>-2.177409</td>\n",
       "      <td>-2.177409</td>\n",
       "      <td>-2.177409</td>\n",
       "      <td>-2.177409</td>\n",
       "      <td>-2.177409</td>\n",
       "    </tr>\n",
       "    <tr>\n",
       "      <th>4</th>\n",
       "      <td>4</td>\n",
       "      <td>-2.189562</td>\n",
       "      <td>-2.187783</td>\n",
       "      <td>-2.194008</td>\n",
       "      <td>-2.171153</td>\n",
       "      <td>-2.152303</td>\n",
       "      <td>-2.056618</td>\n",
       "      <td>-2.194008</td>\n",
       "      <td>-2.194008</td>\n",
       "      <td>-2.145911</td>\n",
       "      <td>...</td>\n",
       "      <td>-2.187356</td>\n",
       "      <td>-2.194008</td>\n",
       "      <td>-2.191779</td>\n",
       "      <td>-2.194008</td>\n",
       "      <td>-2.194008</td>\n",
       "      <td>-2.185161</td>\n",
       "      <td>-2.194008</td>\n",
       "      <td>-2.194008</td>\n",
       "      <td>-2.194008</td>\n",
       "      <td>-2.188037</td>\n",
       "    </tr>\n",
       "    <tr>\n",
       "      <th>...</th>\n",
       "      <td>...</td>\n",
       "      <td>...</td>\n",
       "      <td>...</td>\n",
       "      <td>...</td>\n",
       "      <td>...</td>\n",
       "      <td>...</td>\n",
       "      <td>...</td>\n",
       "      <td>...</td>\n",
       "      <td>...</td>\n",
       "      <td>...</td>\n",
       "      <td>...</td>\n",
       "      <td>...</td>\n",
       "      <td>...</td>\n",
       "      <td>...</td>\n",
       "      <td>...</td>\n",
       "      <td>...</td>\n",
       "      <td>...</td>\n",
       "      <td>...</td>\n",
       "      <td>...</td>\n",
       "      <td>...</td>\n",
       "      <td>...</td>\n",
       "    </tr>\n",
       "    <tr>\n",
       "      <th>62101</th>\n",
       "      <td>64989</td>\n",
       "      <td>-2.145876</td>\n",
       "      <td>-2.158016</td>\n",
       "      <td>-2.216621</td>\n",
       "      <td>-2.158016</td>\n",
       "      <td>-2.006209</td>\n",
       "      <td>-2.102505</td>\n",
       "      <td>-2.216621</td>\n",
       "      <td>-2.157203</td>\n",
       "      <td>-2.216621</td>\n",
       "      <td>...</td>\n",
       "      <td>-2.216621</td>\n",
       "      <td>-2.158016</td>\n",
       "      <td>-2.158016</td>\n",
       "      <td>-2.216621</td>\n",
       "      <td>-2.216621</td>\n",
       "      <td>-2.216621</td>\n",
       "      <td>-2.216621</td>\n",
       "      <td>-2.216621</td>\n",
       "      <td>-2.216621</td>\n",
       "      <td>-2.152024</td>\n",
       "    </tr>\n",
       "    <tr>\n",
       "      <th>62102</th>\n",
       "      <td>64990</td>\n",
       "      <td>-2.203479</td>\n",
       "      <td>-2.203479</td>\n",
       "      <td>-2.203479</td>\n",
       "      <td>-2.203479</td>\n",
       "      <td>-2.203479</td>\n",
       "      <td>-2.176802</td>\n",
       "      <td>-2.203479</td>\n",
       "      <td>-2.203479</td>\n",
       "      <td>-2.203479</td>\n",
       "      <td>...</td>\n",
       "      <td>-2.203479</td>\n",
       "      <td>-2.203479</td>\n",
       "      <td>-2.203479</td>\n",
       "      <td>-2.203479</td>\n",
       "      <td>-2.203479</td>\n",
       "      <td>-2.203479</td>\n",
       "      <td>-2.203479</td>\n",
       "      <td>-2.203479</td>\n",
       "      <td>-2.203479</td>\n",
       "      <td>-2.008885</td>\n",
       "    </tr>\n",
       "    <tr>\n",
       "      <th>62103</th>\n",
       "      <td>64991</td>\n",
       "      <td>-2.190567</td>\n",
       "      <td>-2.208308</td>\n",
       "      <td>-2.208308</td>\n",
       "      <td>-2.208308</td>\n",
       "      <td>-2.208308</td>\n",
       "      <td>-2.135493</td>\n",
       "      <td>-2.208308</td>\n",
       "      <td>-2.208308</td>\n",
       "      <td>-1.909808</td>\n",
       "      <td>...</td>\n",
       "      <td>-2.188935</td>\n",
       "      <td>-2.208308</td>\n",
       "      <td>-2.175594</td>\n",
       "      <td>-2.208308</td>\n",
       "      <td>-2.208308</td>\n",
       "      <td>-2.199347</td>\n",
       "      <td>-2.208308</td>\n",
       "      <td>-2.208308</td>\n",
       "      <td>-2.208308</td>\n",
       "      <td>-2.208308</td>\n",
       "    </tr>\n",
       "    <tr>\n",
       "      <th>62104</th>\n",
       "      <td>64992</td>\n",
       "      <td>-2.173686</td>\n",
       "      <td>-2.173686</td>\n",
       "      <td>-2.173686</td>\n",
       "      <td>-2.173686</td>\n",
       "      <td>-2.173686</td>\n",
       "      <td>-2.173686</td>\n",
       "      <td>-2.173686</td>\n",
       "      <td>-2.173686</td>\n",
       "      <td>-2.173686</td>\n",
       "      <td>...</td>\n",
       "      <td>-2.173686</td>\n",
       "      <td>-2.173686</td>\n",
       "      <td>-2.173686</td>\n",
       "      <td>-2.173686</td>\n",
       "      <td>-2.173686</td>\n",
       "      <td>-2.173686</td>\n",
       "      <td>-2.173686</td>\n",
       "      <td>-2.173686</td>\n",
       "      <td>-2.173686</td>\n",
       "      <td>-2.173686</td>\n",
       "    </tr>\n",
       "    <tr>\n",
       "      <th>62105</th>\n",
       "      <td>64993</td>\n",
       "      <td>-2.179457</td>\n",
       "      <td>-2.179457</td>\n",
       "      <td>-2.179457</td>\n",
       "      <td>-2.179457</td>\n",
       "      <td>-2.179457</td>\n",
       "      <td>-2.179457</td>\n",
       "      <td>-2.179457</td>\n",
       "      <td>-2.179457</td>\n",
       "      <td>-2.179457</td>\n",
       "      <td>...</td>\n",
       "      <td>-2.179457</td>\n",
       "      <td>-2.179457</td>\n",
       "      <td>-2.179457</td>\n",
       "      <td>-2.179457</td>\n",
       "      <td>-2.179457</td>\n",
       "      <td>-2.179457</td>\n",
       "      <td>-2.179457</td>\n",
       "      <td>-2.179457</td>\n",
       "      <td>-2.179457</td>\n",
       "      <td>-2.179457</td>\n",
       "    </tr>\n",
       "  </tbody>\n",
       "</table>\n",
       "<p>62106 rows × 150 columns</p>\n",
       "</div>"
      ],
      "text/plain": [
       "       srch_destination_id        d1        d2        d3        d4        d5  \\\n",
       "0                        0 -2.198657 -2.198657 -2.198657 -2.198657 -2.198657   \n",
       "1                        1 -2.181690 -2.181690 -2.181690 -2.082564 -2.181690   \n",
       "2                        2 -2.183490 -2.224164 -2.224164 -2.189562 -2.105819   \n",
       "3                        3 -2.177409 -2.177409 -2.177409 -2.177409 -2.177409   \n",
       "4                        4 -2.189562 -2.187783 -2.194008 -2.171153 -2.152303   \n",
       "...                    ...       ...       ...       ...       ...       ...   \n",
       "62101                64989 -2.145876 -2.158016 -2.216621 -2.158016 -2.006209   \n",
       "62102                64990 -2.203479 -2.203479 -2.203479 -2.203479 -2.203479   \n",
       "62103                64991 -2.190567 -2.208308 -2.208308 -2.208308 -2.208308   \n",
       "62104                64992 -2.173686 -2.173686 -2.173686 -2.173686 -2.173686   \n",
       "62105                64993 -2.179457 -2.179457 -2.179457 -2.179457 -2.179457   \n",
       "\n",
       "             d6        d7        d8        d9  ...      d140      d141  \\\n",
       "0     -1.897627 -2.198657 -2.198657 -1.897627  ... -2.198657 -2.198657   \n",
       "1     -2.165028 -2.181690 -2.181690 -2.031597  ... -2.165028 -2.181690   \n",
       "2     -2.075407 -2.224164 -2.118483 -2.140393  ... -2.224164 -2.224164   \n",
       "3     -2.115485 -2.177409 -2.177409 -2.177409  ... -2.161081 -2.177409   \n",
       "4     -2.056618 -2.194008 -2.194008 -2.145911  ... -2.187356 -2.194008   \n",
       "...         ...       ...       ...       ...  ...       ...       ...   \n",
       "62101 -2.102505 -2.216621 -2.157203 -2.216621  ... -2.216621 -2.158016   \n",
       "62102 -2.176802 -2.203479 -2.203479 -2.203479  ... -2.203479 -2.203479   \n",
       "62103 -2.135493 -2.208308 -2.208308 -1.909808  ... -2.188935 -2.208308   \n",
       "62104 -2.173686 -2.173686 -2.173686 -2.173686  ... -2.173686 -2.173686   \n",
       "62105 -2.179457 -2.179457 -2.179457 -2.179457  ... -2.179457 -2.179457   \n",
       "\n",
       "           d142      d143      d144      d145      d146      d147      d148  \\\n",
       "0     -2.198657 -2.198657 -2.198657 -2.198657 -2.198657 -2.198657 -2.198657   \n",
       "1     -2.165028 -2.181690 -2.181690 -2.165028 -2.181690 -2.181690 -2.181690   \n",
       "2     -2.196379 -2.224164 -2.192009 -2.224164 -2.224164 -2.224164 -2.224164   \n",
       "3     -2.177409 -2.177409 -2.177409 -2.177409 -2.177409 -2.177409 -2.177409   \n",
       "4     -2.191779 -2.194008 -2.194008 -2.185161 -2.194008 -2.194008 -2.194008   \n",
       "...         ...       ...       ...       ...       ...       ...       ...   \n",
       "62101 -2.158016 -2.216621 -2.216621 -2.216621 -2.216621 -2.216621 -2.216621   \n",
       "62102 -2.203479 -2.203479 -2.203479 -2.203479 -2.203479 -2.203479 -2.203479   \n",
       "62103 -2.175594 -2.208308 -2.208308 -2.199347 -2.208308 -2.208308 -2.208308   \n",
       "62104 -2.173686 -2.173686 -2.173686 -2.173686 -2.173686 -2.173686 -2.173686   \n",
       "62105 -2.179457 -2.179457 -2.179457 -2.179457 -2.179457 -2.179457 -2.179457   \n",
       "\n",
       "           d149  \n",
       "0     -2.198657  \n",
       "1     -2.181690  \n",
       "2     -2.057548  \n",
       "3     -2.177409  \n",
       "4     -2.188037  \n",
       "...         ...  \n",
       "62101 -2.152024  \n",
       "62102 -2.008885  \n",
       "62103 -2.208308  \n",
       "62104 -2.173686  \n",
       "62105 -2.179457  \n",
       "\n",
       "[62106 rows x 150 columns]"
      ]
     },
     "execution_count": 2,
     "metadata": {},
     "output_type": "execute_result"
    }
   ],
   "source": [
    "# Read in destinations file (hotel reviews)\n",
    "dest = pd.read_csv('destinations.csv')\n",
    "dest"
   ]
  },
  {
   "cell_type": "code",
   "execution_count": 2,
   "metadata": {
    "scrolled": false
   },
   "outputs": [
    {
     "data": {
      "text/html": [
       "<div>\n",
       "<style scoped>\n",
       "    .dataframe tbody tr th:only-of-type {\n",
       "        vertical-align: middle;\n",
       "    }\n",
       "\n",
       "    .dataframe tbody tr th {\n",
       "        vertical-align: top;\n",
       "    }\n",
       "\n",
       "    .dataframe thead th {\n",
       "        text-align: right;\n",
       "    }\n",
       "</style>\n",
       "<table border=\"1\" class=\"dataframe\">\n",
       "  <thead>\n",
       "    <tr style=\"text-align: right;\">\n",
       "      <th></th>\n",
       "      <th>date_time</th>\n",
       "      <th>site_name</th>\n",
       "      <th>posa_continent</th>\n",
       "      <th>user_location_country</th>\n",
       "      <th>user_location_region</th>\n",
       "      <th>user_location_city</th>\n",
       "      <th>orig_destination_distance</th>\n",
       "      <th>user_id</th>\n",
       "      <th>is_mobile</th>\n",
       "      <th>is_package</th>\n",
       "      <th>...</th>\n",
       "      <th>srch_children_cnt</th>\n",
       "      <th>srch_rm_cnt</th>\n",
       "      <th>srch_destination_id</th>\n",
       "      <th>srch_destination_type_id</th>\n",
       "      <th>is_booking</th>\n",
       "      <th>cnt</th>\n",
       "      <th>hotel_continent</th>\n",
       "      <th>hotel_country</th>\n",
       "      <th>hotel_market</th>\n",
       "      <th>hotel_cluster</th>\n",
       "    </tr>\n",
       "  </thead>\n",
       "  <tbody>\n",
       "    <tr>\n",
       "      <th>0</th>\n",
       "      <td>2014-08-11 07:46:59</td>\n",
       "      <td>2</td>\n",
       "      <td>3</td>\n",
       "      <td>66</td>\n",
       "      <td>348</td>\n",
       "      <td>48862</td>\n",
       "      <td>2234.2641</td>\n",
       "      <td>12</td>\n",
       "      <td>0</td>\n",
       "      <td>1</td>\n",
       "      <td>...</td>\n",
       "      <td>0</td>\n",
       "      <td>1</td>\n",
       "      <td>8250</td>\n",
       "      <td>1</td>\n",
       "      <td>0</td>\n",
       "      <td>3</td>\n",
       "      <td>2</td>\n",
       "      <td>50</td>\n",
       "      <td>628</td>\n",
       "      <td>1</td>\n",
       "    </tr>\n",
       "    <tr>\n",
       "      <th>1</th>\n",
       "      <td>2014-08-11 08:22:12</td>\n",
       "      <td>2</td>\n",
       "      <td>3</td>\n",
       "      <td>66</td>\n",
       "      <td>348</td>\n",
       "      <td>48862</td>\n",
       "      <td>2234.2641</td>\n",
       "      <td>12</td>\n",
       "      <td>0</td>\n",
       "      <td>1</td>\n",
       "      <td>...</td>\n",
       "      <td>0</td>\n",
       "      <td>1</td>\n",
       "      <td>8250</td>\n",
       "      <td>1</td>\n",
       "      <td>1</td>\n",
       "      <td>1</td>\n",
       "      <td>2</td>\n",
       "      <td>50</td>\n",
       "      <td>628</td>\n",
       "      <td>1</td>\n",
       "    </tr>\n",
       "    <tr>\n",
       "      <th>2</th>\n",
       "      <td>2014-08-11 08:24:33</td>\n",
       "      <td>2</td>\n",
       "      <td>3</td>\n",
       "      <td>66</td>\n",
       "      <td>348</td>\n",
       "      <td>48862</td>\n",
       "      <td>2234.2641</td>\n",
       "      <td>12</td>\n",
       "      <td>0</td>\n",
       "      <td>0</td>\n",
       "      <td>...</td>\n",
       "      <td>0</td>\n",
       "      <td>1</td>\n",
       "      <td>8250</td>\n",
       "      <td>1</td>\n",
       "      <td>0</td>\n",
       "      <td>1</td>\n",
       "      <td>2</td>\n",
       "      <td>50</td>\n",
       "      <td>628</td>\n",
       "      <td>1</td>\n",
       "    </tr>\n",
       "    <tr>\n",
       "      <th>3</th>\n",
       "      <td>2014-08-09 18:05:16</td>\n",
       "      <td>2</td>\n",
       "      <td>3</td>\n",
       "      <td>66</td>\n",
       "      <td>442</td>\n",
       "      <td>35390</td>\n",
       "      <td>913.1932</td>\n",
       "      <td>93</td>\n",
       "      <td>0</td>\n",
       "      <td>0</td>\n",
       "      <td>...</td>\n",
       "      <td>0</td>\n",
       "      <td>1</td>\n",
       "      <td>14984</td>\n",
       "      <td>1</td>\n",
       "      <td>0</td>\n",
       "      <td>1</td>\n",
       "      <td>2</td>\n",
       "      <td>50</td>\n",
       "      <td>1457</td>\n",
       "      <td>80</td>\n",
       "    </tr>\n",
       "    <tr>\n",
       "      <th>4</th>\n",
       "      <td>2014-08-09 18:08:18</td>\n",
       "      <td>2</td>\n",
       "      <td>3</td>\n",
       "      <td>66</td>\n",
       "      <td>442</td>\n",
       "      <td>35390</td>\n",
       "      <td>913.6259</td>\n",
       "      <td>93</td>\n",
       "      <td>0</td>\n",
       "      <td>0</td>\n",
       "      <td>...</td>\n",
       "      <td>0</td>\n",
       "      <td>1</td>\n",
       "      <td>14984</td>\n",
       "      <td>1</td>\n",
       "      <td>0</td>\n",
       "      <td>1</td>\n",
       "      <td>2</td>\n",
       "      <td>50</td>\n",
       "      <td>1457</td>\n",
       "      <td>21</td>\n",
       "    </tr>\n",
       "  </tbody>\n",
       "</table>\n",
       "<p>5 rows × 24 columns</p>\n",
       "</div>"
      ],
      "text/plain": [
       "             date_time  site_name  posa_continent  user_location_country  \\\n",
       "0  2014-08-11 07:46:59          2               3                     66   \n",
       "1  2014-08-11 08:22:12          2               3                     66   \n",
       "2  2014-08-11 08:24:33          2               3                     66   \n",
       "3  2014-08-09 18:05:16          2               3                     66   \n",
       "4  2014-08-09 18:08:18          2               3                     66   \n",
       "\n",
       "   user_location_region  user_location_city  orig_destination_distance  \\\n",
       "0                   348               48862                  2234.2641   \n",
       "1                   348               48862                  2234.2641   \n",
       "2                   348               48862                  2234.2641   \n",
       "3                   442               35390                   913.1932   \n",
       "4                   442               35390                   913.6259   \n",
       "\n",
       "   user_id  is_mobile  is_package  ...  srch_children_cnt srch_rm_cnt  \\\n",
       "0       12          0           1  ...                  0           1   \n",
       "1       12          0           1  ...                  0           1   \n",
       "2       12          0           0  ...                  0           1   \n",
       "3       93          0           0  ...                  0           1   \n",
       "4       93          0           0  ...                  0           1   \n",
       "\n",
       "  srch_destination_id  srch_destination_type_id  is_booking  cnt  \\\n",
       "0                8250                         1           0    3   \n",
       "1                8250                         1           1    1   \n",
       "2                8250                         1           0    1   \n",
       "3               14984                         1           0    1   \n",
       "4               14984                         1           0    1   \n",
       "\n",
       "   hotel_continent  hotel_country  hotel_market  hotel_cluster  \n",
       "0                2             50           628              1  \n",
       "1                2             50           628              1  \n",
       "2                2             50           628              1  \n",
       "3                2             50          1457             80  \n",
       "4                2             50          1457             21  \n",
       "\n",
       "[5 rows x 24 columns]"
      ]
     },
     "execution_count": 2,
     "metadata": {},
     "output_type": "execute_result"
    }
   ],
   "source": [
    "# Read in a limited number of rows from the train dataset (logs of behavior) because it is quite large\n",
    "# Note: I had to significantly reduce the amount of data I was using because of system limitations.\n",
    "train = pd.read_csv('train.csv', nrows = 30000)\n",
    "train.head()"
   ]
  },
  {
   "cell_type": "code",
   "execution_count": 5,
   "metadata": {},
   "outputs": [
    {
     "data": {
      "text/plain": [
       "date_time                     object\n",
       "site_name                      int64\n",
       "posa_continent                 int64\n",
       "user_location_country          int64\n",
       "user_location_region           int64\n",
       "user_location_city             int64\n",
       "orig_destination_distance    float64\n",
       "user_id                        int64\n",
       "is_mobile                      int64\n",
       "is_package                     int64\n",
       "channel                        int64\n",
       "srch_ci                       object\n",
       "srch_co                       object\n",
       "srch_adults_cnt                int64\n",
       "srch_children_cnt              int64\n",
       "srch_rm_cnt                    int64\n",
       "srch_destination_id            int64\n",
       "srch_destination_type_id       int64\n",
       "is_booking                     int64\n",
       "cnt                            int64\n",
       "hotel_continent                int64\n",
       "hotel_country                  int64\n",
       "hotel_market                   int64\n",
       "hotel_cluster                  int64\n",
       "dtype: object"
      ]
     },
     "execution_count": 5,
     "metadata": {},
     "output_type": "execute_result"
    }
   ],
   "source": [
    "# Take a look at the column data types\n",
    "train.dtypes"
   ]
  },
  {
   "cell_type": "code",
   "execution_count": 46,
   "metadata": {},
   "outputs": [
    {
     "data": {
      "text/plain": [
       "array([ 0,  1,  2,  3,  4,  5,  6,  7,  8,  9, 10, 11, 12, 13, 14, 15, 16,\n",
       "       17, 18, 19, 20, 21, 22, 23, 24, 25, 26, 28, 29, 30, 31, 32, 33, 34,\n",
       "       35, 36, 37, 38, 39, 40, 41, 42, 43, 44, 45, 46, 47, 48, 49, 50, 51,\n",
       "       52, 53, 54, 55, 56, 57, 58, 59, 60, 61, 62, 63, 64, 65, 66, 67, 68,\n",
       "       69, 70, 71, 72, 73, 74, 75, 76, 77, 78, 79, 80, 81, 82, 83, 84, 85,\n",
       "       86, 87, 88, 89, 90, 91, 92, 93, 94, 95, 96, 97, 98, 99],\n",
       "      dtype=int64)"
      ]
     },
     "execution_count": 46,
     "metadata": {},
     "output_type": "execute_result"
    }
   ],
   "source": [
    "# hotel_cluster is my target variable, so I just want to look at it closer\n",
    "target_values = train.hotel_cluster.unique()\n",
    "target_values.sort()\n",
    "target_values"
   ]
  },
  {
   "cell_type": "markdown",
   "metadata": {},
   "source": [
    "***Observations upon initial review of the dataset and the file source documentation***\n",
    "\n",
    "Target variable: hotel_cluster, values range from 0-99.\n",
    "\n",
    "Data Types: date_time, srch_ci, & srch_co are dates, all other variables are numeric.\n",
    "\n",
    "Variables: The majority of variables are categorical in nature, but integer encoding was used to transform them into numbers. Continuous variables are: orig_destination_distance, srch_adults_cnt, srch_children_cnt, srch_rm_cnt, cnt. \n",
    "Date/time variables: date_time, srch_ci, srch_co.\n",
    "\n",
    "Connector variable between datasets: srch_destination_id."
   ]
  },
  {
   "cell_type": "markdown",
   "metadata": {},
   "source": [
    "***Conduct Univariate Analysis***"
   ]
  },
  {
   "cell_type": "code",
   "execution_count": 47,
   "metadata": {},
   "outputs": [
    {
     "name": "stdout",
     "output_type": "stream",
     "text": [
      "         site_name  posa_continent  user_location_country  \\\n",
      "count  2511.000000     2511.000000            2511.000000   \n",
      "mean      9.674632        2.598566              82.042613   \n",
      "std      12.800448        0.793739              50.077082   \n",
      "min       2.000000        0.000000               0.000000   \n",
      "25%       2.000000        3.000000              66.000000   \n",
      "50%       2.000000        3.000000              66.000000   \n",
      "75%      13.000000        3.000000              69.000000   \n",
      "max      44.000000        4.000000             239.000000   \n",
      "\n",
      "       user_location_region  user_location_city  orig_destination_distance  \\\n",
      "count           2511.000000         2511.000000                2511.000000   \n",
      "mean             326.435285        29472.673039                1693.012566   \n",
      "std              212.181330        16756.131706                1638.511857   \n",
      "min                0.000000           76.000000                   0.065100   \n",
      "25%              174.000000        15362.000000                 393.887600   \n",
      "50%              321.000000        29821.000000                1906.567199   \n",
      "75%              385.000000        43959.000000                1906.567199   \n",
      "max             1011.000000        56440.000000               11641.224200   \n",
      "\n",
      "         is_mobile   is_package      channel  srch_adults_cnt  \\\n",
      "count  2511.000000  2511.000000  2511.000000      2511.000000   \n",
      "mean      0.092792     0.153325     5.988053         1.847073   \n",
      "std       0.290198     0.360373     3.566089         0.895157   \n",
      "min       0.000000     0.000000     0.000000         0.000000   \n",
      "25%       0.000000     0.000000     2.000000         1.000000   \n",
      "50%       0.000000     0.000000     9.000000         2.000000   \n",
      "75%       0.000000     0.000000     9.000000         2.000000   \n",
      "max       1.000000     1.000000     9.000000         8.000000   \n",
      "\n",
      "       srch_children_cnt  srch_rm_cnt  srch_destination_id  \\\n",
      "count        2511.000000  2511.000000          2511.000000   \n",
      "mean            0.263640     1.132616         15205.730386   \n",
      "std             0.621485     0.489263         11480.312773   \n",
      "min             0.000000     0.000000            11.000000   \n",
      "25%             0.000000     1.000000          8266.000000   \n",
      "50%             0.000000     1.000000         11928.000000   \n",
      "75%             0.000000     1.000000         21657.000000   \n",
      "max             6.000000     8.000000         65035.000000   \n",
      "\n",
      "       srch_destination_type_id          cnt  hotel_continent  hotel_country  \\\n",
      "count               2511.000000  2511.000000      2511.000000    2511.000000   \n",
      "mean                   2.927519     1.019912         3.072481      78.475508   \n",
      "std                    2.220944     0.153322         1.650161      53.053075   \n",
      "min                    1.000000     1.000000         0.000000       0.000000   \n",
      "25%                    1.000000     1.000000         2.000000      50.000000   \n",
      "50%                    1.000000     1.000000         2.000000      50.000000   \n",
      "75%                    6.000000     1.000000         4.000000     105.000000   \n",
      "max                    8.000000     4.000000         6.000000     208.000000   \n",
      "\n",
      "       hotel_market  hotel_cluster  \n",
      "count   2511.000000    2511.000000  \n",
      "mean     641.163282      47.705695  \n",
      "std      495.935032      29.089815  \n",
      "min        2.000000       0.000000  \n",
      "25%      275.000000      22.000000  \n",
      "50%      628.000000      46.000000  \n",
      "75%      743.000000      72.000000  \n",
      "max     2086.000000      99.000000  \n"
     ]
    }
   ],
   "source": [
    "# Look at the summary statistics for df features\n",
    "print(train.describe())"
   ]
  },
  {
   "cell_type": "code",
   "execution_count": 48,
   "metadata": {
    "scrolled": false
   },
   "outputs": [
    {
     "data": {
      "text/plain": [
       "(array([270., 294., 247., 221., 371., 208., 216., 206., 151., 327.]),\n",
       " array([ 0. ,  9.9, 19.8, 29.7, 39.6, 49.5, 59.4, 69.3, 79.2, 89.1, 99. ]),\n",
       " <a list of 10 Patch objects>)"
      ]
     },
     "execution_count": 48,
     "metadata": {},
     "output_type": "execute_result"
    },
    {
     "data": {
      "image/png": "[encoded data removed]",
      "text/plain": [
       "<Figure size 432x288 with 1 Axes>"
      ]
     },
     "metadata": {
      "needs_background": "light"
     },
     "output_type": "display_data"
    }
   ],
   "source": [
    "# Look at histogram for target\n",
    "plt.hist(train.hotel_cluster)"
   ]
  },
  {
   "cell_type": "code",
   "execution_count": 49,
   "metadata": {
    "scrolled": false
   },
   "outputs": [
    {
     "data": {
      "text/plain": [
       "<matplotlib.axes._subplots.AxesSubplot at 0x1ac09ad8ca0>"
      ]
     },
     "execution_count": 49,
     "metadata": {},
     "output_type": "execute_result"
    },
    {
     "data": {
      "image/png": "[encoded data removed]",
      "text/plain": [
       "<Figure size 432x288 with 1 Axes>"
      ]
     },
     "metadata": {
      "needs_background": "light"
     },
     "output_type": "display_data"
    }
   ],
   "source": [
    "# Histogram was kind of hard to see, so use a different viz\n",
    "sns.distplot(train.hotel_cluster)"
   ]
  },
  {
   "cell_type": "code",
   "execution_count": 50,
   "metadata": {
    "scrolled": false
   },
   "outputs": [
    {
     "data": {
      "text/plain": [
       "Text(0, 0.5, 'Frequency')"
      ]
     },
     "execution_count": 50,
     "metadata": {},
     "output_type": "execute_result"
    },
    {
     "data": {
      "image/png": "[encoded data removed]",
      "text/plain": [
       "<Figure size 720x720 with 3 Axes>"
      ]
     },
     "metadata": {
      "needs_background": "light"
     },
     "output_type": "display_data"
    }
   ],
   "source": [
    "# Look at histograms for multiple features\n",
    "fig = plt.figure(figsize=(10, 10))\n",
    "ax1 = fig.add_subplot(3, 1, 1)\n",
    "ax2 = fig.add_subplot(3, 1, 2)\n",
    "ax3 = fig.add_subplot(3, 1, 3)\n",
    "\n",
    "n, bins, patches = ax1.hist(train.srch_adults_cnt)\n",
    "ax1.set_xlabel('Number of Adults Searched')\n",
    "ax1.set_ylabel('Frequency')\n",
    "\n",
    "n, bins, patches = ax2.hist(train.srch_children_cnt)\n",
    "ax2.set_xlabel('Number of Children Searched')\n",
    "ax2.set_ylabel('Frequency')\n",
    "\n",
    "n, bins, patches = ax3.hist(train.srch_rm_cnt)\n",
    "ax3.set_xlabel('Number of Rooms Searched')\n",
    "ax3.set_ylabel('Frequency')"
   ]
  },
  {
   "cell_type": "code",
   "execution_count": 3,
   "metadata": {},
   "outputs": [
    {
     "data": {
      "text/plain": [
       "(array([27489.,     0.,     0.,     0.,     0.,     0.,     0.,     0.,\n",
       "            0.,  2511.]),\n",
       " array([0. , 0.1, 0.2, 0.3, 0.4, 0.5, 0.6, 0.7, 0.8, 0.9, 1. ]),\n",
       " <a list of 10 Patch objects>)"
      ]
     },
     "execution_count": 3,
     "metadata": {},
     "output_type": "execute_result"
    },
    {
     "data": {
      "image/png": "[encoded data removed]",
      "text/plain": [
       "<Figure size 432x288 with 1 Axes>"
      ]
     },
     "metadata": {
      "needs_background": "light"
     },
     "output_type": "display_data"
    }
   ],
   "source": [
    "# Since we want to know about hotels that were booked, I want to look at the hist for is_booking (1 = booked)\n",
    "plt.hist(train.is_booking)"
   ]
  },
  {
   "cell_type": "markdown",
   "metadata": {},
   "source": [
    "***Conduct Bivariate Analysis***"
   ]
  },
  {
   "cell_type": "code",
   "execution_count": 51,
   "metadata": {},
   "outputs": [
    {
     "data": {
      "image/png": "[encoded data removed]",
      "text/plain": [
       "<Figure size 842.4x595.44 with 2 Axes>"
      ]
     },
     "metadata": {},
     "output_type": "display_data"
    }
   ],
   "source": [
    "# Look at correlation matrix to see if any relationships stick out\n",
    "sns.set(rc={'figure.figsize':(11.7,8.27)})\n",
    "corr = train.corr()\n",
    "ax = sns.heatmap(\n",
    "    corr, \n",
    "    vmin=-1, vmax=1, center=0,\n",
    "    cmap=sns.diverging_palette(20, 220, n=200),\n",
    "    square=True\n",
    ")\n",
    "ax.set_xticklabels(\n",
    "    ax.get_xticklabels(),\n",
    "    rotation=45,\n",
    "    horizontalalignment='right'\n",
    ");"
   ]
  },
  {
   "cell_type": "code",
   "execution_count": 52,
   "metadata": {
    "scrolled": false
   },
   "outputs": [
    {
     "data": {
      "image/png": "[encoded data removed]",
      "text/plain": [
       "<Figure size 576x864 with 2 Axes>"
      ]
     },
     "metadata": {},
     "output_type": "display_data"
    }
   ],
   "source": [
    "# Look at the correlation scores for each feature to the target\n",
    "plt.figure(figsize=(8, 12))\n",
    "heatmap = sns.heatmap(train.corr()[['hotel_cluster']].sort_values(by='hotel_cluster', ascending=False), vmin=0, vmax=1, annot=True, cmap='BrBG')\n",
    "heatmap.set_title('Features Correlating with Target', fontdict={'fontsize':18}, pad=16);"
   ]
  },
  {
   "cell_type": "code",
   "execution_count": 53,
   "metadata": {},
   "outputs": [
    {
     "data": {
      "text/plain": [
       "Text(0.5, 1.0, 'Distance Between Calculation by Hotel Cluster')"
      ]
     },
     "execution_count": 53,
     "metadata": {},
     "output_type": "execute_result"
    },
    {
     "data": {
      "image/png": "[encoded data removed]",
      "text/plain": [
       "<Figure size 842.4x595.44 with 1 Axes>"
      ]
     },
     "metadata": {},
     "output_type": "display_data"
    }
   ],
   "source": [
    "# Look at scatterplot of orig_destination_distance to target to assess relationship\n",
    "plt.scatter(train.orig_destination_distance, train.hotel_cluster)\n",
    "plt.xlabel(\"Distance between hotel and customer search location\")\n",
    "plt.ylabel(\"Hotel Cluster\")\n",
    "plt.title(\"Distance Between Calculation by Hotel Cluster\")"
   ]
  },
  {
   "cell_type": "code",
   "execution_count": 54,
   "metadata": {},
   "outputs": [
    {
     "data": {
      "text/plain": [
       "<matplotlib.legend.Legend at 0x1ac0e11ff70>"
      ]
     },
     "execution_count": 54,
     "metadata": {},
     "output_type": "execute_result"
    },
    {
     "data": {
      "image/png": "[encoded data removed]",
      "text/plain": [
       "<Figure size 842.4x595.44 with 1 Axes>"
      ]
     },
     "metadata": {},
     "output_type": "display_data"
    }
   ],
   "source": [
    "# is_package had the highest correlation with the target. Take a look at the stacked bar charts to compare the binary \n",
    "# variables with the target\n",
    "\n",
    "# make subplots\n",
    "fig, ax = plt.subplots()\n",
    "\n",
    "# feed into the visulizer\n",
    "hotel_cluster_package = train.replace({'is_package': {1: 'is_package', 0: 'not_package'}})[train['is_package']==1]['hotel_cluster'].value_counts()\n",
    "hotel_cluster_not_package = train.replace({'is_package': {1: 'is_package', 0: 'not_package'}})[train['is_package']==0]['hotel_cluster'].value_counts()\n",
    "hotel_cluster_not_package = hotel_cluster_not_package.reindex(index = hotel_cluster_package.index)\n",
    "\n",
    "# make the bar plot\n",
    "p1 = ax.bar(hotel_cluster_package.index, hotel_cluster_package.values)\n",
    "p2 = ax.bar(hotel_cluster_not_package.index, hotel_cluster_not_package.values, bottom=hotel_cluster_package.values)\n",
    "ax.set_title('is_package Counts by Hotel Cluster', fontsize=25)\n",
    "ax.set_xlabel('Hotel Cluster', fontsize=20)\n",
    "ax.set_ylabel('Counts', fontsize=20)\n",
    "ax.tick_params(axis='both', labelsize=15)\n",
    "ax.set_xticks(np.arange(0, 100, 5))\n",
    "ax.legend((p1[0], p2[0]), ('Package', 'Not Package'), fontsize = 15)"
   ]
  },
  {
   "cell_type": "markdown",
   "metadata": {},
   "source": [
    "***Observations upon completion of univariate and bivariate analysis***\n",
    "\n",
    "There really aren't any strong correlations in the dataset. Especially with the target. The top 5 are: hotel_market, orig_destination_distance, is_package, srch_children_cnt, hotel_continent."
   ]
  },
  {
   "cell_type": "markdown",
   "metadata": {},
   "source": [
    "***Data Cleaning & Transformation***"
   ]
  },
  {
   "cell_type": "code",
   "execution_count": 4,
   "metadata": {
    "scrolled": false
   },
   "outputs": [
    {
     "name": "stdout",
     "output_type": "stream",
     "text": [
      "date_time                        0\n",
      "site_name                        0\n",
      "posa_continent                   0\n",
      "user_location_country            0\n",
      "user_location_region             0\n",
      "user_location_city               0\n",
      "orig_destination_distance    11056\n",
      "user_id                          0\n",
      "is_mobile                        0\n",
      "is_package                       0\n",
      "channel                          0\n",
      "srch_ci                         19\n",
      "srch_co                         19\n",
      "srch_adults_cnt                  0\n",
      "srch_children_cnt                0\n",
      "srch_rm_cnt                      0\n",
      "srch_destination_id              0\n",
      "srch_destination_type_id         0\n",
      "is_booking                       0\n",
      "cnt                              0\n",
      "hotel_continent                  0\n",
      "hotel_country                    0\n",
      "hotel_market                     0\n",
      "hotel_cluster                    0\n",
      "dtype: int64\n"
     ]
    }
   ],
   "source": [
    "# Check the df for nans\n",
    "count_nan_in_df = train.isnull().sum()\n",
    "print (count_nan_in_df)"
   ]
  },
  {
   "cell_type": "code",
   "execution_count": 5,
   "metadata": {},
   "outputs": [],
   "source": [
    "# Use mean to fill in the average value for orig_destination_distance\n",
    "train['orig_destination_distance'].fillna(train['orig_destination_distance'].mean(), inplace=True)"
   ]
  },
  {
   "cell_type": "code",
   "execution_count": 6,
   "metadata": {
    "scrolled": true
   },
   "outputs": [
    {
     "data": {
      "text/plain": [
       "(29981, 24)"
      ]
     },
     "execution_count": 6,
     "metadata": {},
     "output_type": "execute_result"
    }
   ],
   "source": [
    "# Then remove the srch_ci and srch_co observations that are missing values.\n",
    "train = train.dropna()  \n",
    "train.shape"
   ]
  },
  {
   "cell_type": "code",
   "execution_count": 7,
   "metadata": {},
   "outputs": [],
   "source": [
    "# We are interested in predicting the hotel cluster that is booked, therefore keep on is_booking data\n",
    "train = train.loc[train['is_booking'] == 1]\n",
    "\n",
    "# Remove is_booking column, no longer needed. Remove user_id & date_time, they don't appear to provide a lot of value.\n",
    "train = train.drop(['is_booking', 'user_id', 'date_time'], axis=1)"
   ]
  },
  {
   "cell_type": "code",
   "execution_count": 8,
   "metadata": {
    "scrolled": true
   },
   "outputs": [
    {
     "data": {
      "text/plain": [
       "(2511, 21)"
      ]
     },
     "execution_count": 8,
     "metadata": {},
     "output_type": "execute_result"
    }
   ],
   "source": [
    "# Let's see how many records we ended up with\n",
    "train.shape"
   ]
  },
  {
   "cell_type": "markdown",
   "metadata": {},
   "source": [
    "Now since I've cleaned up my data and there is a lot less of it, I'm going to go back and rerun some of my visualizations to see if anything stands out.\n",
    "\n",
    "Hotel clusters in the 40's and 90's are booked most.\n",
    "Modes of 2 adults, 0 children, 1 room.\n",
    "Heavy travel up to a distance of 3,000, then it lightens up.\n",
    "Huge change in the number of packages booked vs viewed. Turns out a lot of people view packages, but do not book them."
   ]
  },
  {
   "cell_type": "code",
   "execution_count": 9,
   "metadata": {},
   "outputs": [],
   "source": [
    "# First Change date columns (srch_ci & srch_co) into datetime objects\n",
    "#train[[\"srch_ci\", \"srch_co\"]] = train[[\"srch_ci\", \"srch_co\"]].apply(pd.to_datetime)\n",
    "\n",
    "# Verify change\n",
    "#train.dtypes\n",
    "\n",
    "# Next, pull out the year and month data from each of the datetime objects\n",
    "#train['srch_ci_year'] = train['srch_ci'].dt.year\n",
    "#train['srch_ci_month'] = train['srch_ci'].dt.month\n",
    "#train['srch_ci_day'] = train['srch_ci'].dt.day\n",
    "#train['srch_co_year'] = train['srch_co'].dt.year\n",
    "#train['srch_co_month'] = train['srch_co'].dt.month\n",
    "#train['srch_co_day'] = train['srch_co'].dt.day\n",
    "\n",
    "# Then, remove the original columns\n",
    "train = train.drop(['srch_ci', 'srch_co'], axis=1)\n",
    "\n",
    "# Lastly, move the target column to the last column in the dataset\n",
    "#train = train[[c for c in train if c not in ['hotel_cluster']] \n",
    "#       + ['hotel_cluster']]\n",
    "#train.head()"
   ]
  },
  {
   "cell_type": "code",
   "execution_count": 10,
   "metadata": {},
   "outputs": [],
   "source": [
    "# Split data into features and target data sets\n",
    "features = train.iloc[: , :-1]\n",
    "target = train.iloc[:,-1:]"
   ]
  },
  {
   "cell_type": "markdown",
   "metadata": {},
   "source": [
    "***Feature Selection Using RandomForestClassifier***"
   ]
  },
  {
   "cell_type": "code",
   "execution_count": 11,
   "metadata": {
    "scrolled": true
   },
   "outputs": [
    {
     "name": "stdout",
     "output_type": "stream",
     "text": [
      "Best Number of Features:  6\n",
      "List of Feature Names:  Index(['user_location_region', 'user_location_city',\n",
      "       'orig_destination_distance', 'channel', 'srch_destination_id',\n",
      "       'hotel_market'],\n",
      "      dtype='object')\n"
     ]
    }
   ],
   "source": [
    "# Use RandomForestClassifier for feature selection because the dataset contains both numeric and categorical features\n",
    "from sklearn.ensemble import RandomForestClassifier\n",
    "from sklearn.feature_selection import SelectFromModel\n",
    "\n",
    "# Specify random forest instance, indicating the number of trees\n",
    "sel = SelectFromModel(RandomForestClassifier(n_estimators = 100))\n",
    "\n",
    "# Use selectFromModel object to automatically select features\n",
    "sel.fit(features, target.values.ravel())\n",
    "\n",
    "# Make a list and count the selected features\n",
    "selected_feat= features.columns[(sel.get_support())]\n",
    "\n",
    "print(\"Best Number of Features: \", len(selected_feat))\n",
    "print(\"List of Feature Names: \", selected_feat)"
   ]
  },
  {
   "cell_type": "code",
   "execution_count": 12,
   "metadata": {
    "scrolled": false
   },
   "outputs": [
    {
     "data": {
      "text/html": [
       "<div>\n",
       "<style scoped>\n",
       "    .dataframe tbody tr th:only-of-type {\n",
       "        vertical-align: middle;\n",
       "    }\n",
       "\n",
       "    .dataframe tbody tr th {\n",
       "        vertical-align: top;\n",
       "    }\n",
       "\n",
       "    .dataframe thead th {\n",
       "        text-align: right;\n",
       "    }\n",
       "</style>\n",
       "<table border=\"1\" class=\"dataframe\">\n",
       "  <thead>\n",
       "    <tr style=\"text-align: right;\">\n",
       "      <th></th>\n",
       "      <th>user_location_region</th>\n",
       "      <th>user_location_city</th>\n",
       "      <th>orig_destination_distance</th>\n",
       "      <th>channel</th>\n",
       "      <th>srch_destination_id</th>\n",
       "      <th>hotel_market</th>\n",
       "    </tr>\n",
       "  </thead>\n",
       "  <tbody>\n",
       "    <tr>\n",
       "      <th>1</th>\n",
       "      <td>348</td>\n",
       "      <td>48862</td>\n",
       "      <td>2234.264100</td>\n",
       "      <td>9</td>\n",
       "      <td>8250</td>\n",
       "      <td>628</td>\n",
       "    </tr>\n",
       "    <tr>\n",
       "      <th>20</th>\n",
       "      <td>318</td>\n",
       "      <td>52078</td>\n",
       "      <td>1906.567199</td>\n",
       "      <td>4</td>\n",
       "      <td>8291</td>\n",
       "      <td>191</td>\n",
       "    </tr>\n",
       "    <tr>\n",
       "      <th>27</th>\n",
       "      <td>548</td>\n",
       "      <td>56440</td>\n",
       "      <td>1906.567199</td>\n",
       "      <td>9</td>\n",
       "      <td>1385</td>\n",
       "      <td>185</td>\n",
       "    </tr>\n",
       "    <tr>\n",
       "      <th>72</th>\n",
       "      <td>991</td>\n",
       "      <td>47725</td>\n",
       "      <td>1906.567199</td>\n",
       "      <td>9</td>\n",
       "      <td>8803</td>\n",
       "      <td>69</td>\n",
       "    </tr>\n",
       "    <tr>\n",
       "      <th>79</th>\n",
       "      <td>462</td>\n",
       "      <td>41898</td>\n",
       "      <td>2454.858800</td>\n",
       "      <td>1</td>\n",
       "      <td>12009</td>\n",
       "      <td>680</td>\n",
       "    </tr>\n",
       "    <tr>\n",
       "      <th>...</th>\n",
       "      <td>...</td>\n",
       "      <td>...</td>\n",
       "      <td>...</td>\n",
       "      <td>...</td>\n",
       "      <td>...</td>\n",
       "      <td>...</td>\n",
       "    </tr>\n",
       "    <tr>\n",
       "      <th>29933</th>\n",
       "      <td>288</td>\n",
       "      <td>19207</td>\n",
       "      <td>463.683600</td>\n",
       "      <td>9</td>\n",
       "      <td>11626</td>\n",
       "      <td>668</td>\n",
       "    </tr>\n",
       "    <tr>\n",
       "      <th>29936</th>\n",
       "      <td>288</td>\n",
       "      <td>19207</td>\n",
       "      <td>1453.416300</td>\n",
       "      <td>0</td>\n",
       "      <td>5666</td>\n",
       "      <td>552</td>\n",
       "    </tr>\n",
       "    <tr>\n",
       "      <th>29953</th>\n",
       "      <td>348</td>\n",
       "      <td>47997</td>\n",
       "      <td>1407.582000</td>\n",
       "      <td>9</td>\n",
       "      <td>8243</td>\n",
       "      <td>409</td>\n",
       "    </tr>\n",
       "    <tr>\n",
       "      <th>29963</th>\n",
       "      <td>348</td>\n",
       "      <td>47997</td>\n",
       "      <td>2422.999000</td>\n",
       "      <td>9</td>\n",
       "      <td>8824</td>\n",
       "      <td>118</td>\n",
       "    </tr>\n",
       "    <tr>\n",
       "      <th>29970</th>\n",
       "      <td>348</td>\n",
       "      <td>47997</td>\n",
       "      <td>1088.741700</td>\n",
       "      <td>9</td>\n",
       "      <td>8260</td>\n",
       "      <td>701</td>\n",
       "    </tr>\n",
       "  </tbody>\n",
       "</table>\n",
       "<p>2511 rows × 6 columns</p>\n",
       "</div>"
      ],
      "text/plain": [
       "       user_location_region  user_location_city  orig_destination_distance  \\\n",
       "1                       348               48862                2234.264100   \n",
       "20                      318               52078                1906.567199   \n",
       "27                      548               56440                1906.567199   \n",
       "72                      991               47725                1906.567199   \n",
       "79                      462               41898                2454.858800   \n",
       "...                     ...                 ...                        ...   \n",
       "29933                   288               19207                 463.683600   \n",
       "29936                   288               19207                1453.416300   \n",
       "29953                   348               47997                1407.582000   \n",
       "29963                   348               47997                2422.999000   \n",
       "29970                   348               47997                1088.741700   \n",
       "\n",
       "       channel  srch_destination_id  hotel_market  \n",
       "1            9                 8250           628  \n",
       "20           4                 8291           191  \n",
       "27           9                 1385           185  \n",
       "72           9                 8803            69  \n",
       "79           1                12009           680  \n",
       "...        ...                  ...           ...  \n",
       "29933        9                11626           668  \n",
       "29936        0                 5666           552  \n",
       "29953        9                 8243           409  \n",
       "29963        9                 8824           118  \n",
       "29970        9                 8260           701  \n",
       "\n",
       "[2511 rows x 6 columns]"
      ]
     },
     "execution_count": 12,
     "metadata": {},
     "output_type": "execute_result"
    }
   ],
   "source": [
    "# Create a features dataframe that has the identified best features\n",
    "best_features = features[['user_location_region', 'user_location_city',\n",
    "       'orig_destination_distance', 'channel', 'srch_destination_id',\n",
    "       'hotel_market']]\n",
    "best_features"
   ]
  },
  {
   "cell_type": "code",
   "execution_count": 13,
   "metadata": {},
   "outputs": [
    {
     "data": {
      "text/html": [
       "<div>\n",
       "<style scoped>\n",
       "    .dataframe tbody tr th:only-of-type {\n",
       "        vertical-align: middle;\n",
       "    }\n",
       "\n",
       "    .dataframe tbody tr th {\n",
       "        vertical-align: top;\n",
       "    }\n",
       "\n",
       "    .dataframe thead th {\n",
       "        text-align: right;\n",
       "    }\n",
       "</style>\n",
       "<table border=\"1\" class=\"dataframe\">\n",
       "  <thead>\n",
       "    <tr style=\"text-align: right;\">\n",
       "      <th></th>\n",
       "      <th>user_location_region</th>\n",
       "      <th>user_location_city</th>\n",
       "      <th>orig_destination_distance</th>\n",
       "      <th>channel</th>\n",
       "      <th>srch_destination_id</th>\n",
       "      <th>hotel_market</th>\n",
       "    </tr>\n",
       "  </thead>\n",
       "  <tbody>\n",
       "    <tr>\n",
       "      <th>0</th>\n",
       "      <td>348</td>\n",
       "      <td>48862</td>\n",
       "      <td>2234.264100</td>\n",
       "      <td>9</td>\n",
       "      <td>8250</td>\n",
       "      <td>628</td>\n",
       "    </tr>\n",
       "    <tr>\n",
       "      <th>1</th>\n",
       "      <td>318</td>\n",
       "      <td>52078</td>\n",
       "      <td>1906.567199</td>\n",
       "      <td>4</td>\n",
       "      <td>8291</td>\n",
       "      <td>191</td>\n",
       "    </tr>\n",
       "    <tr>\n",
       "      <th>2</th>\n",
       "      <td>548</td>\n",
       "      <td>56440</td>\n",
       "      <td>1906.567199</td>\n",
       "      <td>9</td>\n",
       "      <td>1385</td>\n",
       "      <td>185</td>\n",
       "    </tr>\n",
       "    <tr>\n",
       "      <th>3</th>\n",
       "      <td>991</td>\n",
       "      <td>47725</td>\n",
       "      <td>1906.567199</td>\n",
       "      <td>9</td>\n",
       "      <td>8803</td>\n",
       "      <td>69</td>\n",
       "    </tr>\n",
       "    <tr>\n",
       "      <th>4</th>\n",
       "      <td>462</td>\n",
       "      <td>41898</td>\n",
       "      <td>2454.858800</td>\n",
       "      <td>1</td>\n",
       "      <td>12009</td>\n",
       "      <td>680</td>\n",
       "    </tr>\n",
       "    <tr>\n",
       "      <th>...</th>\n",
       "      <td>...</td>\n",
       "      <td>...</td>\n",
       "      <td>...</td>\n",
       "      <td>...</td>\n",
       "      <td>...</td>\n",
       "      <td>...</td>\n",
       "    </tr>\n",
       "    <tr>\n",
       "      <th>2506</th>\n",
       "      <td>288</td>\n",
       "      <td>19207</td>\n",
       "      <td>463.683600</td>\n",
       "      <td>9</td>\n",
       "      <td>11626</td>\n",
       "      <td>668</td>\n",
       "    </tr>\n",
       "    <tr>\n",
       "      <th>2507</th>\n",
       "      <td>288</td>\n",
       "      <td>19207</td>\n",
       "      <td>1453.416300</td>\n",
       "      <td>0</td>\n",
       "      <td>5666</td>\n",
       "      <td>552</td>\n",
       "    </tr>\n",
       "    <tr>\n",
       "      <th>2508</th>\n",
       "      <td>348</td>\n",
       "      <td>47997</td>\n",
       "      <td>1407.582000</td>\n",
       "      <td>9</td>\n",
       "      <td>8243</td>\n",
       "      <td>409</td>\n",
       "    </tr>\n",
       "    <tr>\n",
       "      <th>2509</th>\n",
       "      <td>348</td>\n",
       "      <td>47997</td>\n",
       "      <td>2422.999000</td>\n",
       "      <td>9</td>\n",
       "      <td>8824</td>\n",
       "      <td>118</td>\n",
       "    </tr>\n",
       "    <tr>\n",
       "      <th>2510</th>\n",
       "      <td>348</td>\n",
       "      <td>47997</td>\n",
       "      <td>1088.741700</td>\n",
       "      <td>9</td>\n",
       "      <td>8260</td>\n",
       "      <td>701</td>\n",
       "    </tr>\n",
       "  </tbody>\n",
       "</table>\n",
       "<p>2511 rows × 6 columns</p>\n",
       "</div>"
      ],
      "text/plain": [
       "      user_location_region  user_location_city  orig_destination_distance  \\\n",
       "0                      348               48862                2234.264100   \n",
       "1                      318               52078                1906.567199   \n",
       "2                      548               56440                1906.567199   \n",
       "3                      991               47725                1906.567199   \n",
       "4                      462               41898                2454.858800   \n",
       "...                    ...                 ...                        ...   \n",
       "2506                   288               19207                 463.683600   \n",
       "2507                   288               19207                1453.416300   \n",
       "2508                   348               47997                1407.582000   \n",
       "2509                   348               47997                2422.999000   \n",
       "2510                   348               47997                1088.741700   \n",
       "\n",
       "      channel  srch_destination_id  hotel_market  \n",
       "0           9                 8250           628  \n",
       "1           4                 8291           191  \n",
       "2           9                 1385           185  \n",
       "3           9                 8803            69  \n",
       "4           1                12009           680  \n",
       "...       ...                  ...           ...  \n",
       "2506        9                11626           668  \n",
       "2507        0                 5666           552  \n",
       "2508        9                 8243           409  \n",
       "2509        9                 8824           118  \n",
       "2510        9                 8260           701  \n",
       "\n",
       "[2511 rows x 6 columns]"
      ]
     },
     "execution_count": 13,
     "metadata": {},
     "output_type": "execute_result"
    }
   ],
   "source": [
    "# reset index\n",
    "best_features.reset_index(inplace=True, drop=True)\n",
    "best_features"
   ]
  },
  {
   "cell_type": "markdown",
   "metadata": {},
   "source": [
    "***Feature Selection Using SelectPercentile***\n",
    "Do not use, just leaving this here in case I need to come back to it"
   ]
  },
  {
   "cell_type": "code",
   "execution_count": 89,
   "metadata": {},
   "outputs": [
    {
     "name": "stdout",
     "output_type": "stream",
     "text": [
      "Original number of features: 11560\n",
      "Reduced number of features: 1156\n"
     ]
    }
   ],
   "source": [
    "# Remove irrelevant features by calculating the chi-square statistic between each feature and target variable and \n",
    "# using it to select the KBest features.\n",
    "#from sklearn.feature_selection import SelectKBest\n",
    "#from sklearn.feature_selection import chi2, f_classif\n",
    "#from sklearn.feature_selection import SelectPercentile\n",
    "\n",
    "# Select top % of features with highest chi2 statistic\n",
    "#chi2_selector = SelectPercentile(chi2, percentile=10)\n",
    "#features_kbest = chi2_selector.fit_transform(features, target)\n",
    "\n",
    "# Show results\n",
    "#print(\"Original number of features:\", features.shape[1])\n",
    "#print(\"Reduced number of features:\", features_kbest.shape[1])"
   ]
  },
  {
   "cell_type": "code",
   "execution_count": 90,
   "metadata": {},
   "outputs": [],
   "source": [
    "# Get a list of features\n",
    "#mask = chi2_selector.get_support()\n",
    "#feature_list = features.columns[mask]"
   ]
  },
  {
   "cell_type": "code",
   "execution_count": 91,
   "metadata": {
    "scrolled": true
   },
   "outputs": [
    {
     "data": {
      "text/html": [
       "<div>\n",
       "<style scoped>\n",
       "    .dataframe tbody tr th:only-of-type {\n",
       "        vertical-align: middle;\n",
       "    }\n",
       "\n",
       "    .dataframe tbody tr th {\n",
       "        vertical-align: top;\n",
       "    }\n",
       "\n",
       "    .dataframe thead th {\n",
       "        text-align: right;\n",
       "    }\n",
       "</style>\n",
       "<table border=\"1\" class=\"dataframe\">\n",
       "  <thead>\n",
       "    <tr style=\"text-align: right;\">\n",
       "      <th></th>\n",
       "      <th>orig_destination_distance</th>\n",
       "      <th>srch_children_cnt</th>\n",
       "      <th>site_name_2</th>\n",
       "      <th>site_name_8</th>\n",
       "      <th>site_name_11</th>\n",
       "      <th>site_name_13</th>\n",
       "      <th>site_name_17</th>\n",
       "      <th>site_name_18</th>\n",
       "      <th>site_name_20</th>\n",
       "      <th>site_name_22</th>\n",
       "      <th>...</th>\n",
       "      <th>srch_destination_id_52332</th>\n",
       "      <th>srch_destination_id_52743</th>\n",
       "      <th>srch_destination_id_55535</th>\n",
       "      <th>srch_destination_id_56070</th>\n",
       "      <th>srch_destination_id_56416</th>\n",
       "      <th>srch_destination_id_56825</th>\n",
       "      <th>srch_destination_id_57747</th>\n",
       "      <th>srch_destination_id_58397</th>\n",
       "      <th>srch_destination_id_58680</th>\n",
       "      <th>srch_destination_id_62231</th>\n",
       "    </tr>\n",
       "  </thead>\n",
       "  <tbody>\n",
       "    <tr>\n",
       "      <th>0</th>\n",
       "      <td>2234.264100</td>\n",
       "      <td>0.0</td>\n",
       "      <td>1.0</td>\n",
       "      <td>0.0</td>\n",
       "      <td>0.0</td>\n",
       "      <td>0.0</td>\n",
       "      <td>0.0</td>\n",
       "      <td>0.0</td>\n",
       "      <td>0.0</td>\n",
       "      <td>0.0</td>\n",
       "      <td>...</td>\n",
       "      <td>0.0</td>\n",
       "      <td>0.0</td>\n",
       "      <td>0.0</td>\n",
       "      <td>0.0</td>\n",
       "      <td>0.0</td>\n",
       "      <td>0.0</td>\n",
       "      <td>0.0</td>\n",
       "      <td>0.0</td>\n",
       "      <td>0.0</td>\n",
       "      <td>0.0</td>\n",
       "    </tr>\n",
       "    <tr>\n",
       "      <th>1</th>\n",
       "      <td>2014.420353</td>\n",
       "      <td>0.0</td>\n",
       "      <td>1.0</td>\n",
       "      <td>0.0</td>\n",
       "      <td>0.0</td>\n",
       "      <td>0.0</td>\n",
       "      <td>0.0</td>\n",
       "      <td>0.0</td>\n",
       "      <td>0.0</td>\n",
       "      <td>0.0</td>\n",
       "      <td>...</td>\n",
       "      <td>0.0</td>\n",
       "      <td>0.0</td>\n",
       "      <td>0.0</td>\n",
       "      <td>0.0</td>\n",
       "      <td>0.0</td>\n",
       "      <td>0.0</td>\n",
       "      <td>0.0</td>\n",
       "      <td>0.0</td>\n",
       "      <td>0.0</td>\n",
       "      <td>0.0</td>\n",
       "    </tr>\n",
       "    <tr>\n",
       "      <th>2</th>\n",
       "      <td>2014.420353</td>\n",
       "      <td>0.0</td>\n",
       "      <td>0.0</td>\n",
       "      <td>0.0</td>\n",
       "      <td>0.0</td>\n",
       "      <td>0.0</td>\n",
       "      <td>0.0</td>\n",
       "      <td>0.0</td>\n",
       "      <td>0.0</td>\n",
       "      <td>0.0</td>\n",
       "      <td>...</td>\n",
       "      <td>0.0</td>\n",
       "      <td>0.0</td>\n",
       "      <td>0.0</td>\n",
       "      <td>0.0</td>\n",
       "      <td>0.0</td>\n",
       "      <td>0.0</td>\n",
       "      <td>0.0</td>\n",
       "      <td>0.0</td>\n",
       "      <td>0.0</td>\n",
       "      <td>0.0</td>\n",
       "    </tr>\n",
       "    <tr>\n",
       "      <th>3</th>\n",
       "      <td>2014.420353</td>\n",
       "      <td>0.0</td>\n",
       "      <td>0.0</td>\n",
       "      <td>0.0</td>\n",
       "      <td>0.0</td>\n",
       "      <td>0.0</td>\n",
       "      <td>0.0</td>\n",
       "      <td>0.0</td>\n",
       "      <td>0.0</td>\n",
       "      <td>0.0</td>\n",
       "      <td>...</td>\n",
       "      <td>0.0</td>\n",
       "      <td>0.0</td>\n",
       "      <td>0.0</td>\n",
       "      <td>0.0</td>\n",
       "      <td>0.0</td>\n",
       "      <td>0.0</td>\n",
       "      <td>0.0</td>\n",
       "      <td>0.0</td>\n",
       "      <td>0.0</td>\n",
       "      <td>0.0</td>\n",
       "    </tr>\n",
       "    <tr>\n",
       "      <th>4</th>\n",
       "      <td>2454.858800</td>\n",
       "      <td>0.0</td>\n",
       "      <td>1.0</td>\n",
       "      <td>0.0</td>\n",
       "      <td>0.0</td>\n",
       "      <td>0.0</td>\n",
       "      <td>0.0</td>\n",
       "      <td>0.0</td>\n",
       "      <td>0.0</td>\n",
       "      <td>0.0</td>\n",
       "      <td>...</td>\n",
       "      <td>0.0</td>\n",
       "      <td>0.0</td>\n",
       "      <td>0.0</td>\n",
       "      <td>0.0</td>\n",
       "      <td>0.0</td>\n",
       "      <td>0.0</td>\n",
       "      <td>0.0</td>\n",
       "      <td>0.0</td>\n",
       "      <td>0.0</td>\n",
       "      <td>0.0</td>\n",
       "    </tr>\n",
       "    <tr>\n",
       "      <th>...</th>\n",
       "      <td>...</td>\n",
       "      <td>...</td>\n",
       "      <td>...</td>\n",
       "      <td>...</td>\n",
       "      <td>...</td>\n",
       "      <td>...</td>\n",
       "      <td>...</td>\n",
       "      <td>...</td>\n",
       "      <td>...</td>\n",
       "      <td>...</td>\n",
       "      <td>...</td>\n",
       "      <td>...</td>\n",
       "      <td>...</td>\n",
       "      <td>...</td>\n",
       "      <td>...</td>\n",
       "      <td>...</td>\n",
       "      <td>...</td>\n",
       "      <td>...</td>\n",
       "      <td>...</td>\n",
       "      <td>...</td>\n",
       "      <td>...</td>\n",
       "    </tr>\n",
       "    <tr>\n",
       "      <th>25089</th>\n",
       "      <td>6346.077000</td>\n",
       "      <td>0.0</td>\n",
       "      <td>0.0</td>\n",
       "      <td>0.0</td>\n",
       "      <td>0.0</td>\n",
       "      <td>1.0</td>\n",
       "      <td>0.0</td>\n",
       "      <td>0.0</td>\n",
       "      <td>0.0</td>\n",
       "      <td>0.0</td>\n",
       "      <td>...</td>\n",
       "      <td>0.0</td>\n",
       "      <td>0.0</td>\n",
       "      <td>0.0</td>\n",
       "      <td>0.0</td>\n",
       "      <td>0.0</td>\n",
       "      <td>0.0</td>\n",
       "      <td>0.0</td>\n",
       "      <td>0.0</td>\n",
       "      <td>0.0</td>\n",
       "      <td>0.0</td>\n",
       "    </tr>\n",
       "    <tr>\n",
       "      <th>25090</th>\n",
       "      <td>5812.415300</td>\n",
       "      <td>0.0</td>\n",
       "      <td>0.0</td>\n",
       "      <td>0.0</td>\n",
       "      <td>0.0</td>\n",
       "      <td>1.0</td>\n",
       "      <td>0.0</td>\n",
       "      <td>0.0</td>\n",
       "      <td>0.0</td>\n",
       "      <td>0.0</td>\n",
       "      <td>...</td>\n",
       "      <td>0.0</td>\n",
       "      <td>0.0</td>\n",
       "      <td>0.0</td>\n",
       "      <td>0.0</td>\n",
       "      <td>0.0</td>\n",
       "      <td>0.0</td>\n",
       "      <td>0.0</td>\n",
       "      <td>0.0</td>\n",
       "      <td>0.0</td>\n",
       "      <td>0.0</td>\n",
       "    </tr>\n",
       "    <tr>\n",
       "      <th>25091</th>\n",
       "      <td>616.164300</td>\n",
       "      <td>0.0</td>\n",
       "      <td>0.0</td>\n",
       "      <td>0.0</td>\n",
       "      <td>0.0</td>\n",
       "      <td>1.0</td>\n",
       "      <td>0.0</td>\n",
       "      <td>0.0</td>\n",
       "      <td>0.0</td>\n",
       "      <td>0.0</td>\n",
       "      <td>...</td>\n",
       "      <td>0.0</td>\n",
       "      <td>0.0</td>\n",
       "      <td>0.0</td>\n",
       "      <td>0.0</td>\n",
       "      <td>0.0</td>\n",
       "      <td>0.0</td>\n",
       "      <td>0.0</td>\n",
       "      <td>0.0</td>\n",
       "      <td>0.0</td>\n",
       "      <td>0.0</td>\n",
       "    </tr>\n",
       "    <tr>\n",
       "      <th>25092</th>\n",
       "      <td>485.238600</td>\n",
       "      <td>0.0</td>\n",
       "      <td>0.0</td>\n",
       "      <td>0.0</td>\n",
       "      <td>0.0</td>\n",
       "      <td>1.0</td>\n",
       "      <td>0.0</td>\n",
       "      <td>0.0</td>\n",
       "      <td>0.0</td>\n",
       "      <td>0.0</td>\n",
       "      <td>...</td>\n",
       "      <td>0.0</td>\n",
       "      <td>0.0</td>\n",
       "      <td>0.0</td>\n",
       "      <td>0.0</td>\n",
       "      <td>0.0</td>\n",
       "      <td>0.0</td>\n",
       "      <td>0.0</td>\n",
       "      <td>0.0</td>\n",
       "      <td>0.0</td>\n",
       "      <td>0.0</td>\n",
       "    </tr>\n",
       "    <tr>\n",
       "      <th>25093</th>\n",
       "      <td>485.238600</td>\n",
       "      <td>0.0</td>\n",
       "      <td>0.0</td>\n",
       "      <td>0.0</td>\n",
       "      <td>0.0</td>\n",
       "      <td>1.0</td>\n",
       "      <td>0.0</td>\n",
       "      <td>0.0</td>\n",
       "      <td>0.0</td>\n",
       "      <td>0.0</td>\n",
       "      <td>...</td>\n",
       "      <td>0.0</td>\n",
       "      <td>0.0</td>\n",
       "      <td>0.0</td>\n",
       "      <td>0.0</td>\n",
       "      <td>0.0</td>\n",
       "      <td>0.0</td>\n",
       "      <td>0.0</td>\n",
       "      <td>0.0</td>\n",
       "      <td>0.0</td>\n",
       "      <td>0.0</td>\n",
       "    </tr>\n",
       "  </tbody>\n",
       "</table>\n",
       "<p>25094 rows × 1156 columns</p>\n",
       "</div>"
      ],
      "text/plain": [
       "       orig_destination_distance  srch_children_cnt  site_name_2  site_name_8  \\\n",
       "0                    2234.264100                0.0          1.0          0.0   \n",
       "1                    2014.420353                0.0          1.0          0.0   \n",
       "2                    2014.420353                0.0          0.0          0.0   \n",
       "3                    2014.420353                0.0          0.0          0.0   \n",
       "4                    2454.858800                0.0          1.0          0.0   \n",
       "...                          ...                ...          ...          ...   \n",
       "25089                6346.077000                0.0          0.0          0.0   \n",
       "25090                5812.415300                0.0          0.0          0.0   \n",
       "25091                 616.164300                0.0          0.0          0.0   \n",
       "25092                 485.238600                0.0          0.0          0.0   \n",
       "25093                 485.238600                0.0          0.0          0.0   \n",
       "\n",
       "       site_name_11  site_name_13  site_name_17  site_name_18  site_name_20  \\\n",
       "0               0.0           0.0           0.0           0.0           0.0   \n",
       "1               0.0           0.0           0.0           0.0           0.0   \n",
       "2               0.0           0.0           0.0           0.0           0.0   \n",
       "3               0.0           0.0           0.0           0.0           0.0   \n",
       "4               0.0           0.0           0.0           0.0           0.0   \n",
       "...             ...           ...           ...           ...           ...   \n",
       "25089           0.0           1.0           0.0           0.0           0.0   \n",
       "25090           0.0           1.0           0.0           0.0           0.0   \n",
       "25091           0.0           1.0           0.0           0.0           0.0   \n",
       "25092           0.0           1.0           0.0           0.0           0.0   \n",
       "25093           0.0           1.0           0.0           0.0           0.0   \n",
       "\n",
       "       site_name_22  ...  srch_destination_id_52332  \\\n",
       "0               0.0  ...                        0.0   \n",
       "1               0.0  ...                        0.0   \n",
       "2               0.0  ...                        0.0   \n",
       "3               0.0  ...                        0.0   \n",
       "4               0.0  ...                        0.0   \n",
       "...             ...  ...                        ...   \n",
       "25089           0.0  ...                        0.0   \n",
       "25090           0.0  ...                        0.0   \n",
       "25091           0.0  ...                        0.0   \n",
       "25092           0.0  ...                        0.0   \n",
       "25093           0.0  ...                        0.0   \n",
       "\n",
       "       srch_destination_id_52743  srch_destination_id_55535  \\\n",
       "0                            0.0                        0.0   \n",
       "1                            0.0                        0.0   \n",
       "2                            0.0                        0.0   \n",
       "3                            0.0                        0.0   \n",
       "4                            0.0                        0.0   \n",
       "...                          ...                        ...   \n",
       "25089                        0.0                        0.0   \n",
       "25090                        0.0                        0.0   \n",
       "25091                        0.0                        0.0   \n",
       "25092                        0.0                        0.0   \n",
       "25093                        0.0                        0.0   \n",
       "\n",
       "       srch_destination_id_56070  srch_destination_id_56416  \\\n",
       "0                            0.0                        0.0   \n",
       "1                            0.0                        0.0   \n",
       "2                            0.0                        0.0   \n",
       "3                            0.0                        0.0   \n",
       "4                            0.0                        0.0   \n",
       "...                          ...                        ...   \n",
       "25089                        0.0                        0.0   \n",
       "25090                        0.0                        0.0   \n",
       "25091                        0.0                        0.0   \n",
       "25092                        0.0                        0.0   \n",
       "25093                        0.0                        0.0   \n",
       "\n",
       "       srch_destination_id_56825  srch_destination_id_57747  \\\n",
       "0                            0.0                        0.0   \n",
       "1                            0.0                        0.0   \n",
       "2                            0.0                        0.0   \n",
       "3                            0.0                        0.0   \n",
       "4                            0.0                        0.0   \n",
       "...                          ...                        ...   \n",
       "25089                        0.0                        0.0   \n",
       "25090                        0.0                        0.0   \n",
       "25091                        0.0                        0.0   \n",
       "25092                        0.0                        0.0   \n",
       "25093                        0.0                        0.0   \n",
       "\n",
       "       srch_destination_id_58397  srch_destination_id_58680  \\\n",
       "0                            0.0                        0.0   \n",
       "1                            0.0                        0.0   \n",
       "2                            0.0                        0.0   \n",
       "3                            0.0                        0.0   \n",
       "4                            0.0                        0.0   \n",
       "...                          ...                        ...   \n",
       "25089                        0.0                        0.0   \n",
       "25090                        0.0                        0.0   \n",
       "25091                        0.0                        0.0   \n",
       "25092                        0.0                        0.0   \n",
       "25093                        0.0                        0.0   \n",
       "\n",
       "       srch_destination_id_62231  \n",
       "0                            0.0  \n",
       "1                            0.0  \n",
       "2                            0.0  \n",
       "3                            0.0  \n",
       "4                            0.0  \n",
       "...                          ...  \n",
       "25089                        0.0  \n",
       "25090                        0.0  \n",
       "25091                        0.0  \n",
       "25092                        0.0  \n",
       "25093                        0.0  \n",
       "\n",
       "[25094 rows x 1156 columns]"
      ]
     },
     "execution_count": 91,
     "metadata": {},
     "output_type": "execute_result"
    }
   ],
   "source": [
    "# Create a dataframe from KBest Percentile results\n",
    "#Kbest_features = pd.DataFrame(features_kbest, columns=feature_list)\n",
    "#Kbest_features"
   ]
  },
  {
   "cell_type": "markdown",
   "metadata": {},
   "source": [
    "***Data Transformation for Logistic Regression***\n",
    "Only use this section when running logistic regression model"
   ]
  },
  {
   "cell_type": "code",
   "execution_count": 14,
   "metadata": {},
   "outputs": [
    {
     "name": "stdout",
     "output_type": "stream",
     "text": [
      "   orig_destination_distance  user_location_region_0  user_location_region_9  \\\n",
      "0                2234.264100                       0                       0   \n",
      "1                1906.567199                       0                       0   \n",
      "2                1906.567199                       0                       0   \n",
      "3                1906.567199                       0                       0   \n",
      "4                2454.858800                       0                       0   \n",
      "\n",
      "   user_location_region_12  user_location_region_13  user_location_region_14  \\\n",
      "0                        0                        0                        0   \n",
      "1                        0                        0                        0   \n",
      "2                        0                        0                        0   \n",
      "3                        0                        0                        0   \n",
      "4                        0                        0                        0   \n",
      "\n",
      "   user_location_region_18  user_location_region_20  user_location_region_21  \\\n",
      "0                        0                        0                        0   \n",
      "1                        0                        0                        0   \n",
      "2                        0                        0                        0   \n",
      "3                        0                        0                        0   \n",
      "4                        0                        0                        0   \n",
      "\n",
      "   user_location_region_24  ...  srch_destination_id_61531  \\\n",
      "0                        0  ...                          0   \n",
      "1                        0  ...                          0   \n",
      "2                        0  ...                          0   \n",
      "3                        0  ...                          0   \n",
      "4                        0  ...                          0   \n",
      "\n",
      "   srch_destination_id_61533  srch_destination_id_61702  \\\n",
      "0                          0                          0   \n",
      "1                          0                          0   \n",
      "2                          0                          0   \n",
      "3                          0                          0   \n",
      "4                          0                          0   \n",
      "\n",
      "   srch_destination_id_61756  srch_destination_id_61990  \\\n",
      "0                          0                          0   \n",
      "1                          0                          0   \n",
      "2                          0                          0   \n",
      "3                          0                          0   \n",
      "4                          0                          0   \n",
      "\n",
      "   srch_destination_id_62927  srch_destination_id_63687  \\\n",
      "0                          0                          0   \n",
      "1                          0                          0   \n",
      "2                          0                          0   \n",
      "3                          0                          0   \n",
      "4                          0                          0   \n",
      "\n",
      "   srch_destination_id_63851  srch_destination_id_64627  \\\n",
      "0                          0                          0   \n",
      "1                          0                          0   \n",
      "2                          0                          0   \n",
      "3                          0                          0   \n",
      "4                          0                          0   \n",
      "\n",
      "   srch_destination_id_65035  \n",
      "0                          0  \n",
      "1                          0  \n",
      "2                          0  \n",
      "3                          0  \n",
      "4                          0  \n",
      "\n",
      "[5 rows x 2804 columns]\n"
     ]
    }
   ],
   "source": [
    "# Use variables selected by RandomForestClassifier and one-hot encode the categorical variables\n",
    "cat_features = [\"user_location_region\", \"user_location_city\", \"channel\", \"hotel_market\", \"srch_destination_id\"]\n",
    "    \n",
    "# One Hot Encoding \n",
    "best_features = pd.get_dummies(best_features, columns = cat_features)\n",
    "\n",
    "# check the data\n",
    "print(best_features.head())"
   ]
  },
  {
   "cell_type": "code",
   "execution_count": 15,
   "metadata": {},
   "outputs": [
    {
     "data": {
      "text/html": [
       "<div>\n",
       "<style scoped>\n",
       "    .dataframe tbody tr th:only-of-type {\n",
       "        vertical-align: middle;\n",
       "    }\n",
       "\n",
       "    .dataframe tbody tr th {\n",
       "        vertical-align: top;\n",
       "    }\n",
       "\n",
       "    .dataframe thead th {\n",
       "        text-align: right;\n",
       "    }\n",
       "</style>\n",
       "<table border=\"1\" class=\"dataframe\">\n",
       "  <thead>\n",
       "    <tr style=\"text-align: right;\">\n",
       "      <th></th>\n",
       "      <th>orig_destination_distance</th>\n",
       "    </tr>\n",
       "  </thead>\n",
       "  <tbody>\n",
       "    <tr>\n",
       "      <th>0</th>\n",
       "      <td>0.191922</td>\n",
       "    </tr>\n",
       "    <tr>\n",
       "      <th>1</th>\n",
       "      <td>0.163773</td>\n",
       "    </tr>\n",
       "    <tr>\n",
       "      <th>2</th>\n",
       "      <td>0.163773</td>\n",
       "    </tr>\n",
       "    <tr>\n",
       "      <th>3</th>\n",
       "      <td>0.163773</td>\n",
       "    </tr>\n",
       "    <tr>\n",
       "      <th>4</th>\n",
       "      <td>0.210872</td>\n",
       "    </tr>\n",
       "    <tr>\n",
       "      <th>...</th>\n",
       "      <td>...</td>\n",
       "    </tr>\n",
       "    <tr>\n",
       "      <th>2506</th>\n",
       "      <td>0.039826</td>\n",
       "    </tr>\n",
       "    <tr>\n",
       "      <th>2507</th>\n",
       "      <td>0.124846</td>\n",
       "    </tr>\n",
       "    <tr>\n",
       "      <th>2508</th>\n",
       "      <td>0.120909</td>\n",
       "    </tr>\n",
       "    <tr>\n",
       "      <th>2509</th>\n",
       "      <td>0.208135</td>\n",
       "    </tr>\n",
       "    <tr>\n",
       "      <th>2510</th>\n",
       "      <td>0.093520</td>\n",
       "    </tr>\n",
       "  </tbody>\n",
       "</table>\n",
       "<p>2511 rows × 1 columns</p>\n",
       "</div>"
      ],
      "text/plain": [
       "      orig_destination_distance\n",
       "0                      0.191922\n",
       "1                      0.163773\n",
       "2                      0.163773\n",
       "3                      0.163773\n",
       "4                      0.210872\n",
       "...                         ...\n",
       "2506                   0.039826\n",
       "2507                   0.124846\n",
       "2508                   0.120909\n",
       "2509                   0.208135\n",
       "2510                   0.093520\n",
       "\n",
       "[2511 rows x 1 columns]"
      ]
     },
     "execution_count": 15,
     "metadata": {},
     "output_type": "execute_result"
    }
   ],
   "source": [
    "# Use variables selected by RandomForestClassifier and scale numeric variable\n",
    "from sklearn.preprocessing import MinMaxScaler\n",
    "numeric = [\"orig_destination_distance\"]\n",
    "\n",
    "#Scale variables\n",
    "mms = MinMaxScaler()\n",
    "scaled_dat = mms.fit_transform(best_features[numeric])\n",
    "\n",
    "# Turn results back into pandas df\n",
    "scaled_dat = pd.DataFrame(scaled_dat, columns=[\"orig_destination_distance\"])\n",
    "scaled_dat"
   ]
  },
  {
   "cell_type": "code",
   "execution_count": 16,
   "metadata": {},
   "outputs": [
    {
     "data": {
      "text/html": [
       "<div>\n",
       "<style scoped>\n",
       "    .dataframe tbody tr th:only-of-type {\n",
       "        vertical-align: middle;\n",
       "    }\n",
       "\n",
       "    .dataframe tbody tr th {\n",
       "        vertical-align: top;\n",
       "    }\n",
       "\n",
       "    .dataframe thead th {\n",
       "        text-align: right;\n",
       "    }\n",
       "</style>\n",
       "<table border=\"1\" class=\"dataframe\">\n",
       "  <thead>\n",
       "    <tr style=\"text-align: right;\">\n",
       "      <th></th>\n",
       "      <th>orig_destination_distance</th>\n",
       "      <th>user_location_region_0</th>\n",
       "      <th>user_location_region_9</th>\n",
       "      <th>user_location_region_12</th>\n",
       "      <th>user_location_region_13</th>\n",
       "      <th>user_location_region_14</th>\n",
       "      <th>user_location_region_18</th>\n",
       "      <th>user_location_region_20</th>\n",
       "      <th>user_location_region_21</th>\n",
       "      <th>user_location_region_24</th>\n",
       "      <th>...</th>\n",
       "      <th>srch_destination_id_61531</th>\n",
       "      <th>srch_destination_id_61533</th>\n",
       "      <th>srch_destination_id_61702</th>\n",
       "      <th>srch_destination_id_61756</th>\n",
       "      <th>srch_destination_id_61990</th>\n",
       "      <th>srch_destination_id_62927</th>\n",
       "      <th>srch_destination_id_63687</th>\n",
       "      <th>srch_destination_id_63851</th>\n",
       "      <th>srch_destination_id_64627</th>\n",
       "      <th>srch_destination_id_65035</th>\n",
       "    </tr>\n",
       "  </thead>\n",
       "  <tbody>\n",
       "    <tr>\n",
       "      <th>0</th>\n",
       "      <td>0.191922</td>\n",
       "      <td>0</td>\n",
       "      <td>0</td>\n",
       "      <td>0</td>\n",
       "      <td>0</td>\n",
       "      <td>0</td>\n",
       "      <td>0</td>\n",
       "      <td>0</td>\n",
       "      <td>0</td>\n",
       "      <td>0</td>\n",
       "      <td>...</td>\n",
       "      <td>0</td>\n",
       "      <td>0</td>\n",
       "      <td>0</td>\n",
       "      <td>0</td>\n",
       "      <td>0</td>\n",
       "      <td>0</td>\n",
       "      <td>0</td>\n",
       "      <td>0</td>\n",
       "      <td>0</td>\n",
       "      <td>0</td>\n",
       "    </tr>\n",
       "    <tr>\n",
       "      <th>1</th>\n",
       "      <td>0.163773</td>\n",
       "      <td>0</td>\n",
       "      <td>0</td>\n",
       "      <td>0</td>\n",
       "      <td>0</td>\n",
       "      <td>0</td>\n",
       "      <td>0</td>\n",
       "      <td>0</td>\n",
       "      <td>0</td>\n",
       "      <td>0</td>\n",
       "      <td>...</td>\n",
       "      <td>0</td>\n",
       "      <td>0</td>\n",
       "      <td>0</td>\n",
       "      <td>0</td>\n",
       "      <td>0</td>\n",
       "      <td>0</td>\n",
       "      <td>0</td>\n",
       "      <td>0</td>\n",
       "      <td>0</td>\n",
       "      <td>0</td>\n",
       "    </tr>\n",
       "    <tr>\n",
       "      <th>2</th>\n",
       "      <td>0.163773</td>\n",
       "      <td>0</td>\n",
       "      <td>0</td>\n",
       "      <td>0</td>\n",
       "      <td>0</td>\n",
       "      <td>0</td>\n",
       "      <td>0</td>\n",
       "      <td>0</td>\n",
       "      <td>0</td>\n",
       "      <td>0</td>\n",
       "      <td>...</td>\n",
       "      <td>0</td>\n",
       "      <td>0</td>\n",
       "      <td>0</td>\n",
       "      <td>0</td>\n",
       "      <td>0</td>\n",
       "      <td>0</td>\n",
       "      <td>0</td>\n",
       "      <td>0</td>\n",
       "      <td>0</td>\n",
       "      <td>0</td>\n",
       "    </tr>\n",
       "    <tr>\n",
       "      <th>3</th>\n",
       "      <td>0.163773</td>\n",
       "      <td>0</td>\n",
       "      <td>0</td>\n",
       "      <td>0</td>\n",
       "      <td>0</td>\n",
       "      <td>0</td>\n",
       "      <td>0</td>\n",
       "      <td>0</td>\n",
       "      <td>0</td>\n",
       "      <td>0</td>\n",
       "      <td>...</td>\n",
       "      <td>0</td>\n",
       "      <td>0</td>\n",
       "      <td>0</td>\n",
       "      <td>0</td>\n",
       "      <td>0</td>\n",
       "      <td>0</td>\n",
       "      <td>0</td>\n",
       "      <td>0</td>\n",
       "      <td>0</td>\n",
       "      <td>0</td>\n",
       "    </tr>\n",
       "    <tr>\n",
       "      <th>4</th>\n",
       "      <td>0.210872</td>\n",
       "      <td>0</td>\n",
       "      <td>0</td>\n",
       "      <td>0</td>\n",
       "      <td>0</td>\n",
       "      <td>0</td>\n",
       "      <td>0</td>\n",
       "      <td>0</td>\n",
       "      <td>0</td>\n",
       "      <td>0</td>\n",
       "      <td>...</td>\n",
       "      <td>0</td>\n",
       "      <td>0</td>\n",
       "      <td>0</td>\n",
       "      <td>0</td>\n",
       "      <td>0</td>\n",
       "      <td>0</td>\n",
       "      <td>0</td>\n",
       "      <td>0</td>\n",
       "      <td>0</td>\n",
       "      <td>0</td>\n",
       "    </tr>\n",
       "  </tbody>\n",
       "</table>\n",
       "<p>5 rows × 2804 columns</p>\n",
       "</div>"
      ],
      "text/plain": [
       "   orig_destination_distance  user_location_region_0  user_location_region_9  \\\n",
       "0                   0.191922                       0                       0   \n",
       "1                   0.163773                       0                       0   \n",
       "2                   0.163773                       0                       0   \n",
       "3                   0.163773                       0                       0   \n",
       "4                   0.210872                       0                       0   \n",
       "\n",
       "   user_location_region_12  user_location_region_13  user_location_region_14  \\\n",
       "0                        0                        0                        0   \n",
       "1                        0                        0                        0   \n",
       "2                        0                        0                        0   \n",
       "3                        0                        0                        0   \n",
       "4                        0                        0                        0   \n",
       "\n",
       "   user_location_region_18  user_location_region_20  user_location_region_21  \\\n",
       "0                        0                        0                        0   \n",
       "1                        0                        0                        0   \n",
       "2                        0                        0                        0   \n",
       "3                        0                        0                        0   \n",
       "4                        0                        0                        0   \n",
       "\n",
       "   user_location_region_24  ...  srch_destination_id_61531  \\\n",
       "0                        0  ...                          0   \n",
       "1                        0  ...                          0   \n",
       "2                        0  ...                          0   \n",
       "3                        0  ...                          0   \n",
       "4                        0  ...                          0   \n",
       "\n",
       "   srch_destination_id_61533  srch_destination_id_61702  \\\n",
       "0                          0                          0   \n",
       "1                          0                          0   \n",
       "2                          0                          0   \n",
       "3                          0                          0   \n",
       "4                          0                          0   \n",
       "\n",
       "   srch_destination_id_61756  srch_destination_id_61990  \\\n",
       "0                          0                          0   \n",
       "1                          0                          0   \n",
       "2                          0                          0   \n",
       "3                          0                          0   \n",
       "4                          0                          0   \n",
       "\n",
       "   srch_destination_id_62927  srch_destination_id_63687  \\\n",
       "0                          0                          0   \n",
       "1                          0                          0   \n",
       "2                          0                          0   \n",
       "3                          0                          0   \n",
       "4                          0                          0   \n",
       "\n",
       "   srch_destination_id_63851  srch_destination_id_64627  \\\n",
       "0                          0                          0   \n",
       "1                          0                          0   \n",
       "2                          0                          0   \n",
       "3                          0                          0   \n",
       "4                          0                          0   \n",
       "\n",
       "   srch_destination_id_65035  \n",
       "0                          0  \n",
       "1                          0  \n",
       "2                          0  \n",
       "3                          0  \n",
       "4                          0  \n",
       "\n",
       "[5 rows x 2804 columns]"
      ]
     },
     "execution_count": 16,
     "metadata": {},
     "output_type": "execute_result"
    }
   ],
   "source": [
    "# Put the scaled data back into best_features dataframe\n",
    "best_features[\"orig_destination_distance\"] = scaled_dat\n",
    "best_features.head()"
   ]
  },
  {
   "cell_type": "markdown",
   "metadata": {},
   "source": [
    "***Train Test Split***"
   ]
  },
  {
   "cell_type": "code",
   "execution_count": 17,
   "metadata": {},
   "outputs": [],
   "source": [
    "# Train Test Split\n",
    "from sklearn.model_selection import train_test_split\n",
    "\n",
    "X_train, X_val, y_train, y_val = train_test_split(best_features, target, test_size =0.3, random_state=11)"
   ]
  },
  {
   "cell_type": "code",
   "execution_count": 59,
   "metadata": {},
   "outputs": [
    {
     "name": "stdout",
     "output_type": "stream",
     "text": [
      "No. of samples in training set:  1757\n",
      "No. of samples in validation set: 754\n"
     ]
    }
   ],
   "source": [
    "# number of samples in each set\n",
    "print(\"No. of samples in training set: \", X_train.shape[0])\n",
    "print(\"No. of samples in validation set:\", X_val.shape[0])"
   ]
  },
  {
   "cell_type": "code",
   "execution_count": 60,
   "metadata": {
    "scrolled": true
   },
   "outputs": [
    {
     "data": {
      "text/plain": [
       "91    84\n",
       "42    49\n",
       "48    40\n",
       "28    40\n",
       "47    37\n",
       "      ..\n",
       "53     3\n",
       "66     3\n",
       "93     3\n",
       "52     3\n",
       "71     3\n",
       "Name: hotel_cluster, Length: 99, dtype: int64"
      ]
     },
     "execution_count": 60,
     "metadata": {},
     "output_type": "execute_result"
    }
   ],
   "source": [
    "# Check if training target vector had imbalanced classes\n",
    "y_train['hotel_cluster'].value_counts()"
   ]
  },
  {
   "cell_type": "markdown",
   "metadata": {},
   "source": [
    "***Modeling***\n",
    "***Multiclass Classifier Logistic Regression***"
   ]
  },
  {
   "cell_type": "code",
   "execution_count": 61,
   "metadata": {},
   "outputs": [
    {
     "data": {
      "text/plain": [
       "0.007957559681697613"
      ]
     },
     "execution_count": 61,
     "metadata": {},
     "output_type": "execute_result"
    }
   ],
   "source": [
    "# Create baseline regression model for comparison\n",
    "from sklearn.dummy import DummyClassifier\n",
    "\n",
    "dummy = DummyClassifier(strategy='uniform', random_state=1)\n",
    "dummy.fit(X_train, y_train)\n",
    "dummy.score(X_val, y_val)"
   ]
  },
  {
   "cell_type": "code",
   "execution_count": 18,
   "metadata": {},
   "outputs": [
    {
     "data": {
      "text/plain": [
       "0.1724137931034483"
      ]
     },
     "execution_count": 18,
     "metadata": {},
     "output_type": "execute_result"
    }
   ],
   "source": [
    "# Build Multiclass Classifier Regression Model accounting for imbalanced classes\n",
    "from sklearn.linear_model import LogisticRegression\n",
    "\n",
    "# Create logistic regression object\n",
    "logit = LogisticRegression(random_state=0, multi_class=\"ovr\", class_weight=\"balanced\", max_iter=1000)\n",
    "\n",
    "# Train Model\n",
    "model = logit.fit(X_train, y_train.values.ravel())\n",
    "\n",
    "# Get R-squared score for model\n",
    "model.score(X_val, y_val.values.ravel())"
   ]
  },
  {
   "cell_type": "code",
   "execution_count": 64,
   "metadata": {
    "scrolled": true
   },
   "outputs": [
    {
     "name": "stderr",
     "output_type": "stream",
     "text": [
      "C:\\Users\\myraw\\anaconda3\\lib\\site-packages\\sklearn\\model_selection\\_split.py:670: UserWarning: The least populated class in y has only 1 members, which is less than n_splits=5.\n",
      "  warnings.warn((\"The least populated class in y has only %d\"\n"
     ]
    },
    {
     "name": "stdout",
     "output_type": "stream",
     "text": [
      "Accuracy CV Scores: [0.13907285 0.09933775 0.15231788 0.17218543 0.12666667]\n",
      "Accuracy CV Scores Mean: 0.13791611479028698\n"
     ]
    }
   ],
   "source": [
    "# Evaluate model by checking the cross validation scores for logit model\n",
    "from sklearn.model_selection import cross_val_score\n",
    "\n",
    "# Cross-validate using accuracy\n",
    "cvScore = cross_val_score(model, X_val, y_val.values.ravel(), scoring=\"accuracy\")\n",
    "print(\"Accuracy CV Scores:\", cvScore)\n",
    "print(\"Accuracy CV Scores Mean:\", cvScore.mean())"
   ]
  },
  {
   "cell_type": "code",
   "execution_count": 66,
   "metadata": {},
   "outputs": [],
   "source": [
    "# Use model to make predictions\n",
    "target_predicted = model.predict(X_val)"
   ]
  },
  {
   "cell_type": "code",
   "execution_count": 67,
   "metadata": {
    "scrolled": true
   },
   "outputs": [
    {
     "name": "stdout",
     "output_type": "stream",
     "text": [
      "              precision    recall  f1-score   support\n",
      "\n",
      "           0       0.00      0.00      0.00         5\n",
      "           1       0.36      1.00      0.53         4\n",
      "           2       0.08      0.10      0.09        10\n",
      "           3       0.00      0.00      0.00         1\n",
      "           4       0.00      0.00      0.00        13\n",
      "           5       0.00      0.00      0.00         5\n",
      "           6       0.50      0.17      0.25        12\n",
      "           7       0.50      0.24      0.32        17\n",
      "           8       0.25      1.00      0.40         2\n",
      "           9       0.00      0.00      0.00        10\n",
      "          10       0.50      0.47      0.48        15\n",
      "          11       0.14      0.20      0.17         5\n",
      "          12       0.50      0.22      0.31         9\n",
      "          13       0.17      0.18      0.17        11\n",
      "          14       0.00      0.00      0.00         2\n",
      "          15       0.00      0.00      0.00         5\n",
      "          16       0.00      0.00      0.00        11\n",
      "          17       0.33      0.11      0.17         9\n",
      "          18       0.07      0.05      0.06        20\n",
      "          19       0.20      0.17      0.18         6\n",
      "          20       0.00      0.00      0.00         3\n",
      "          21       0.17      0.22      0.20        18\n",
      "          22       0.00      0.00      0.00        10\n",
      "          23       0.00      0.00      0.00         6\n",
      "          24       0.50      0.50      0.50         2\n",
      "          25       0.06      0.08      0.07        12\n",
      "          26       0.50      0.33      0.40         6\n",
      "          28       0.09      0.14      0.11        14\n",
      "          29       0.17      0.17      0.17         6\n",
      "          30       0.25      0.10      0.14        10\n",
      "          31       0.00      0.00      0.00         2\n",
      "          32       0.00      0.00      0.00         7\n",
      "          33       0.00      0.00      0.00        10\n",
      "          34       0.25      0.14      0.18         7\n",
      "          35       0.00      0.00      0.00         2\n",
      "          36       0.08      0.14      0.10         7\n",
      "          37       0.00      0.00      0.00        14\n",
      "          38       0.00      0.00      0.00         5\n",
      "          39       0.50      0.25      0.33         4\n",
      "          40       0.21      0.33      0.26        12\n",
      "          41       0.18      0.20      0.19        15\n",
      "          42       0.21      0.27      0.24        26\n",
      "          43       0.00      0.00      0.00         1\n",
      "          44       0.00      0.00      0.00         3\n",
      "          45       0.00      0.00      0.00         2\n",
      "          46       0.29      0.13      0.18        15\n",
      "          47       0.35      0.50      0.41        12\n",
      "          48       0.09      0.11      0.10        19\n",
      "          49       0.33      0.40      0.36         5\n",
      "          50       0.00      0.00      0.00        12\n",
      "          51       0.17      0.14      0.15         7\n",
      "          52       0.00      0.00      0.00         3\n",
      "          53       1.00      0.25      0.40         4\n",
      "          54       0.86      0.86      0.86         7\n",
      "          55       0.25      0.17      0.20         6\n",
      "          56       0.33      0.25      0.29         4\n",
      "          57       0.00      0.00      0.00         4\n",
      "          58       0.00      0.00      0.00         8\n",
      "          59       0.19      0.25      0.21        12\n",
      "          60       0.00      0.00      0.00         2\n",
      "          61       0.00      0.00      0.00         5\n",
      "          62       0.23      0.50      0.31        10\n",
      "          63       0.00      0.00      0.00         4\n",
      "          64       0.08      0.08      0.08        13\n",
      "          65       0.25      0.67      0.36         3\n",
      "          66       0.00      0.00      0.00         3\n",
      "          67       0.00      0.00      0.00         5\n",
      "          68       0.21      0.27      0.24        15\n",
      "          69       0.00      0.00      0.00         3\n",
      "          70       0.19      0.30      0.23        10\n",
      "          71       1.00      0.50      0.67         2\n",
      "          72       0.00      0.00      0.00        13\n",
      "          73       0.25      0.17      0.20         6\n",
      "          75       0.67      0.50      0.57         4\n",
      "          76       0.00      0.00      0.00         6\n",
      "          77       0.29      0.29      0.29         7\n",
      "          78       0.00      0.00      0.00         8\n",
      "          79       0.00      0.00      0.00         4\n",
      "          80       0.00      0.00      0.00         1\n",
      "          81       0.22      0.22      0.22         9\n",
      "          82       0.38      0.19      0.25        16\n",
      "          83       0.30      0.43      0.35         7\n",
      "          84       0.00      0.00      0.00         0\n",
      "          85       0.00      0.00      0.00         3\n",
      "          86       0.29      0.29      0.29         7\n",
      "          87       0.00      0.00      0.00         1\n",
      "          88       1.00      1.00      1.00         1\n",
      "          89       0.00      0.00      0.00         0\n",
      "          90       0.00      0.00      0.00         5\n",
      "          91       0.11      0.23      0.15        26\n",
      "          92       0.00      0.00      0.00         2\n",
      "          93       0.00      0.00      0.00         3\n",
      "          94       0.11      0.12      0.12         8\n",
      "          95       0.14      0.14      0.14        14\n",
      "          96       0.00      0.00      0.00         3\n",
      "          97       0.25      0.25      0.25        12\n",
      "          98       0.12      0.18      0.14        11\n",
      "          99       0.67      0.25      0.36         8\n",
      "\n",
      "    accuracy                           0.17       754\n",
      "   macro avg       0.18      0.17      0.16       754\n",
      "weighted avg       0.18      0.17      0.17       754\n",
      "\n"
     ]
    },
    {
     "name": "stderr",
     "output_type": "stream",
     "text": [
      "C:\\Users\\myraw\\anaconda3\\lib\\site-packages\\sklearn\\metrics\\_classification.py:1221: UndefinedMetricWarning: Precision and F-score are ill-defined and being set to 0.0 in labels with no predicted samples. Use `zero_division` parameter to control this behavior.\n",
      "  _warn_prf(average, modifier, msg_start, len(result))\n",
      "C:\\Users\\myraw\\anaconda3\\lib\\site-packages\\sklearn\\metrics\\_classification.py:1221: UndefinedMetricWarning: Recall and F-score are ill-defined and being set to 0.0 in labels with no true samples. Use `zero_division` parameter to control this behavior.\n",
      "  _warn_prf(average, modifier, msg_start, len(result))\n"
     ]
    }
   ],
   "source": [
    "# Create a classification report\n",
    "from sklearn.metrics import classification_report\n",
    "\n",
    "print(classification_report(y_val, target_predicted))"
   ]
  },
  {
   "cell_type": "markdown",
   "metadata": {},
   "source": [
    "***Hyperparameter Tuning Logistic Regression Model***"
   ]
  },
  {
   "cell_type": "code",
   "execution_count": 19,
   "metadata": {},
   "outputs": [],
   "source": [
    "# Use RandomizedSearchCV to tune hyperparameters because it is computationally cheaper than an exhaustive search.\n",
    "\n",
    "from sklearn.model_selection import RandomizedSearchCV\n",
    "from scipy.stats import uniform\n",
    "\n",
    "# Create candidates for solver hyperparameter\n",
    "#solver = ['newton-cg', 'lbfgs', 'liblinear', 'sag', 'saga']\n",
    "\n",
    "# Create range of candidate regularization penalty hyperparameter values\n",
    "penalty = ['l1', 'l2']\n",
    "\n",
    "# Create distribution of candidate regularization hyperparameter values\n",
    "C = uniform(loc=0, scale=4)\n",
    "#C = [100, 10, 1.0, 0.1, 0.01]\n",
    "\n",
    "# Create hyperparameter options\n",
    "hyperparameters = dict(C=C, penalty=penalty)\n",
    "#hyperparameters = dict(C=C, penalty=penalty, solver=solver)\n",
    "\n",
    "# Create randomized search\n",
    "randomizedsearch = RandomizedSearchCV(logit, hyperparameters, random_state=1, n_iter=100, cv=3, verbose=0, n_jobs=-1)\n",
    "\n",
    "# Fit randomized search\n",
    "best_model = randomizedsearch.fit(X_train, y_train.values.ravel())"
   ]
  },
  {
   "cell_type": "code",
   "execution_count": 20,
   "metadata": {},
   "outputs": [
    {
     "data": {
      "text/plain": [
       "{'C': 0.8884981901414992, 'penalty': 'l2'}"
      ]
     },
     "execution_count": 20,
     "metadata": {},
     "output_type": "execute_result"
    }
   ],
   "source": [
    "# View best hyperparameters\n",
    "best_model.best_params_"
   ]
  },
  {
   "cell_type": "code",
   "execution_count": 21,
   "metadata": {},
   "outputs": [
    {
     "data": {
      "text/plain": [
       "0.1724137931034483"
      ]
     },
     "execution_count": 21,
     "metadata": {},
     "output_type": "execute_result"
    }
   ],
   "source": [
    "# Get R-squared score for best_model and compare to intial model\n",
    "best_model.score(X_val, y_val.values.ravel())"
   ]
  },
  {
   "cell_type": "markdown",
   "metadata": {},
   "source": [
    "***Logistic Regression Model Results***\n",
    "\n",
    "Baseline logistic regression model score: 0.007957559681697613\n",
    "Default multiclass classifier regression model score: 0.1724137931034483\n",
    "RandomizedSearchCV model score: 0.1724137931034483\n",
    "\n",
    "NOTE: I tried to run RandomizedSearchCV with more hyperparameter candidates, but it was running for several hours using all\n",
    "my CPU and I decided to stop it and reduce the number of hyperparameters. The hyperparameters choosen did not improve results over the default model."
   ]
  },
  {
   "cell_type": "markdown",
   "metadata": {},
   "source": [
    "***Modeling***\n",
    "***Random Forest Regression***"
   ]
  },
  {
   "cell_type": "code",
   "execution_count": 19,
   "metadata": {},
   "outputs": [],
   "source": [
    "from sklearn.ensemble import RandomForestClassifier\n",
    "\n",
    "# Create random forest classifier object\n",
    "randomforest = RandomForestClassifier(random_state=0, n_jobs=-1, class_weight=\"balanced\")\n",
    "\n",
    "#Train model \n",
    "rf_model = randomforest.fit(X_train, y_train.values.ravel())"
   ]
  },
  {
   "cell_type": "code",
   "execution_count": 36,
   "metadata": {},
   "outputs": [
    {
     "data": {
      "text/plain": [
       "0.15251989389920426"
      ]
     },
     "execution_count": 36,
     "metadata": {},
     "output_type": "execute_result"
    }
   ],
   "source": [
    "# view model accuracy score\n",
    "rf_model.score(X_val, y_val.values.ravel())"
   ]
  },
  {
   "cell_type": "code",
   "execution_count": 28,
   "metadata": {
    "scrolled": true
   },
   "outputs": [
    {
     "name": "stderr",
     "output_type": "stream",
     "text": [
      "C:\\Users\\myraw\\anaconda3\\lib\\site-packages\\sklearn\\model_selection\\_split.py:670: UserWarning: The least populated class in y has only 1 members, which is less than n_splits=5.\n",
      "  warnings.warn((\"The least populated class in y has only %d\"\n"
     ]
    },
    {
     "name": "stdout",
     "output_type": "stream",
     "text": [
      "CV Scores: [0.1192053  0.10596026 0.12582781 0.13907285 0.12666667]\n",
      "CV Scores Mean: 0.12334657836644591\n"
     ]
    }
   ],
   "source": [
    "# Cross-validate random forest model\n",
    "from sklearn.model_selection import cross_val_score\n",
    "\n",
    "cvScore = cross_val_score(rf_model, X_val, y_val.values.ravel(), scoring=\"accuracy\")\n",
    "print(\"CV Scores:\", cvScore)\n",
    "print(\"CV Scores Mean:\", cvScore.mean())"
   ]
  },
  {
   "cell_type": "markdown",
   "metadata": {},
   "source": [
    "***Boosting***"
   ]
  },
  {
   "cell_type": "code",
   "execution_count": 29,
   "metadata": {
    "scrolled": true
   },
   "outputs": [
    {
     "name": "stderr",
     "output_type": "stream",
     "text": [
      "C:\\Users\\myraw\\anaconda3\\lib\\site-packages\\sklearn\\model_selection\\_split.py:670: UserWarning: The least populated class in y has only 1 members, which is less than n_splits=5.\n",
      "  warnings.warn((\"The least populated class in y has only %d\"\n"
     ]
    },
    {
     "name": "stdout",
     "output_type": "stream",
     "text": [
      "CV Scores: [0.0397351  0.0397351  0.0397351  0.05298013 0.03333333]\n",
      "CV Scores Mean: 0.0411037527593819\n"
     ]
    }
   ],
   "source": [
    "# Try to use boosting in attempt to improve the model\n",
    "from sklearn.ensemble import AdaBoostClassifier\n",
    "\n",
    "# Create adaboost tree classifier object\n",
    "adaboost = AdaBoostClassifier(random_state=0)\n",
    "\n",
    "# Train model on the important features data set\n",
    "ab_model = adaboost.fit(X_train, y_train.values.ravel())\n",
    "\n",
    "# Cross-validate Adaboost model\n",
    "cvScore = cross_val_score(ab_model, X_val, y_val.values.ravel(), scoring=\"accuracy\")\n",
    "print(\"CV Scores:\", cvScore)\n",
    "print(\"CV Scores Mean:\", cvScore.mean())"
   ]
  },
  {
   "cell_type": "markdown",
   "metadata": {},
   "source": [
    "***Hyperparameter Tuning Random Forest Model***"
   ]
  },
  {
   "cell_type": "code",
   "execution_count": 40,
   "metadata": {},
   "outputs": [
    {
     "name": "stderr",
     "output_type": "stream",
     "text": [
      "C:\\Users\\myraw\\anaconda3\\lib\\site-packages\\sklearn\\model_selection\\_split.py:670: UserWarning: The least populated class in y has only 3 members, which is less than n_splits=5.\n",
      "  warnings.warn((\"The least populated class in y has only %d\"\n",
      "C:\\Users\\myraw\\anaconda3\\lib\\site-packages\\joblib\\externals\\loky\\process_executor.py:688: UserWarning: A worker stopped while some jobs were given to the executor. This can be caused by a too short worker timeout or by a memory leak.\n",
      "  warnings.warn(\n"
     ]
    }
   ],
   "source": [
    "# Use RandomizedSearchCV to tune hyperparameters because it is computationally cheaper than an exhaustive search.\n",
    "from sklearn.model_selection import RandomizedSearchCV\n",
    "\n",
    "# Create range for number of trees in random forest\n",
    "n_estimators = [200, 400, 600, 800, 1000, 1200, 1400, 1600, 1800, 2000]\n",
    "\n",
    "# Create range for number of features to consider at every split\n",
    "max_features = ['auto', 'sqrt']\n",
    "\n",
    "# Create range for maximum number of levels in tree\n",
    "max_depth = [10, 20, 30, 40, 50, 60, 70, 80, 90, 100, None]\n",
    "\n",
    "# Create range for minimum number of samples required to split a node\n",
    "min_samples_split = [2, 5, 10]\n",
    "\n",
    "# Create range for minimum number of samples required at each leaf node\n",
    "min_samples_leaf = [1, 2, 4]\n",
    "\n",
    "# Define method of selecting samples for training each tree\n",
    "bootstrap = [True, False]\n",
    "\n",
    "# Create hyperparameter options\n",
    "hyperparameters = dict(n_estimators=n_estimators, max_features=max_features, max_depth=max_depth, \n",
    "                       min_samples_split=min_samples_split, min_samples_leaf=min_samples_leaf, bootstrap=bootstrap)\n",
    "\n",
    "# Create randomized search\n",
    "randomizedsearch = RandomizedSearchCV(rf_model, hyperparameters, random_state=1, n_iter=100, cv=5, verbose=0, n_jobs=-1)\n",
    "\n",
    "# Fit randomized search\n",
    "best_rf_model = randomizedsearch.fit(X_train, y_train.values.ravel())"
   ]
  },
  {
   "cell_type": "code",
   "execution_count": 42,
   "metadata": {},
   "outputs": [
    {
     "data": {
      "text/plain": [
       "{'n_estimators': 1000,\n",
       " 'min_samples_split': 2,\n",
       " 'min_samples_leaf': 1,\n",
       " 'max_features': 'sqrt',\n",
       " 'max_depth': 60,\n",
       " 'bootstrap': True}"
      ]
     },
     "execution_count": 42,
     "metadata": {},
     "output_type": "execute_result"
    }
   ],
   "source": [
    "# View best hyperparameters\n",
    "best_rf_model.best_params_"
   ]
  },
  {
   "cell_type": "code",
   "execution_count": 43,
   "metadata": {},
   "outputs": [
    {
     "data": {
      "text/plain": [
       "0.14588859416445624"
      ]
     },
     "execution_count": 43,
     "metadata": {},
     "output_type": "execute_result"
    }
   ],
   "source": [
    "# Get R-squared score for best_model and compare to intial model\n",
    "best_rf_model.score(X_val, y_val.values.ravel())"
   ]
  },
  {
   "cell_type": "code",
   "execution_count": 45,
   "metadata": {},
   "outputs": [
    {
     "data": {
      "text/plain": [
       "0.16710875331564987"
      ]
     },
     "execution_count": 45,
     "metadata": {},
     "output_type": "execute_result"
    }
   ],
   "source": [
    "# Create my own random forest classifier combining hyperparameters from multiple RandomizedSearchCV results.\n",
    "randomforest3 = RandomForestClassifier(random_state=0, n_jobs=-1, class_weight=\"balanced\",\n",
    "                                       n_estimators=1000, max_features=6, min_samples_split=2, min_samples_leaf=1, \n",
    "                                       max_depth=60, bootstrap=True)\n",
    "\n",
    "#Train model \n",
    "last_rf_model = randomforest3.fit(X_train, y_train.values.ravel())\n",
    "\n",
    "last_rf_model.score(X_val, y_val.values.ravel())"
   ]
  },
  {
   "cell_type": "markdown",
   "metadata": {},
   "source": [
    "***Random Forest Classifier Model Results***\n",
    "\n",
    "Default rf model score: 0.15251989389920426\n",
    "Adaboost model score: 0.0411037527593819\n",
    "RandomizedSearchCV model score: 0.14588859416445624\n",
    "My rf model score: 0.16710875331564987\n",
    "\n",
    "When I had run RandomizedSearchCV with numeric options for max_features instead of auto and sqrt, the best result was 6. So I decided to combine hyperparameters from multiple RandomizedSearchCV results and create my own model that returned the best score yet. Yay!"
   ]
  }
 ],
 "metadata": {
  "kernelspec": {
   "display_name": "Python 3",
   "language": "python",
   "name": "python3"
  },
  "language_info": {
   "codemirror_mode": {
    "name": "ipython",
    "version": 3
   },
   "file_extension": ".py",
   "mimetype": "text/x-python",
   "name": "python",
   "nbconvert_exporter": "python",
   "pygments_lexer": "ipython3",
   "version": "3.8.3"
  }
 },
 "nbformat": 4,
 "nbformat_minor": 4
}
