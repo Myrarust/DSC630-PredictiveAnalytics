{
 "cells": [
  {
   "cell_type": "code",
   "execution_count": 4,
   "id": "a5cf46c3",
   "metadata": {},
   "outputs": [],
   "source": [
    "from scipy.stats import binom\n",
    "import matplotlib.pyplot as plt\n",
    "import numpy as np\n",
    "import math"
   ]
  },
  {
   "cell_type": "markdown",
   "id": "f4509ebb",
   "metadata": {},
   "source": [
    "***Calculate Ensemble Model Error Rates***"
   ]
  },
  {
   "cell_type": "code",
   "execution_count": 52,
   "id": "a71d4e8a",
   "metadata": {
    "scrolled": false
   },
   "outputs": [],
   "source": [
    "def ensemble_error_rate(n, err):\n",
    "    \n",
    "    # Define empty list\n",
    "    ens_err = []\n",
    "\n",
    "    # Calculate p\n",
    "    p = 1-err\n",
    "\n",
    "    # defining the list of r values\n",
    "    r_values = list(range(n + 1))\n",
    "\n",
    "    # list of pmf values\n",
    "    dist = [binom.pmf(r, n, p) for r in r_values ]\n",
    "    \n",
    "    for i in range(n + 1):\n",
    "        if i > n/2:\n",
    "            ens_err.append(dist[i])\n",
    "            \n",
    "    # Print results\n",
    "    print(\"Probability of Producing an Incorrect Prediction: \", (1-sum(ens_err)) * 100)           "
   ]
  },
  {
   "cell_type": "markdown",
   "id": "ae1ddf32",
   "metadata": {},
   "source": [
    "***Ensemble 1:***"
   ]
  },
  {
   "cell_type": "code",
   "execution_count": 53,
   "id": "a369eeb1",
   "metadata": {
    "scrolled": false
   },
   "outputs": [
    {
     "name": "stdout",
     "output_type": "stream",
     "text": [
      "Probability of Producing an Incorrect Prediction:  1.1654205439999399\n"
     ]
    }
   ],
   "source": [
    "# Calculate the error rate for and ensemble that has 11 independent models with 0.2 error rates\n",
    "ensemble_error_rate(11, 0.2)"
   ]
  },
  {
   "cell_type": "markdown",
   "id": "183d4e22",
   "metadata": {},
   "source": [
    "***Ensemble 2:***"
   ]
  },
  {
   "cell_type": "code",
   "execution_count": 54,
   "id": "097c2c26",
   "metadata": {
    "scrolled": true
   },
   "outputs": [
    {
     "name": "stdout",
     "output_type": "stream",
     "text": [
      "Probability of Producing an Incorrect Prediction:  47.294772571497475\n"
     ]
    }
   ],
   "source": [
    "# Calculate the error rate for and ensemble that has 11 independent models with 0.49 error rates\n",
    "ensemble_error_rate(11, 0.49)"
   ]
  },
  {
   "cell_type": "markdown",
   "id": "37460618",
   "metadata": {},
   "source": [
    "***Ensemble 3:***"
   ]
  },
  {
   "cell_type": "code",
   "execution_count": 55,
   "id": "96c2510c",
   "metadata": {
    "scrolled": true
   },
   "outputs": [
    {
     "name": "stdout",
     "output_type": "stream",
     "text": [
      "Probability of Producing an Incorrect Prediction:  46.30479010127362\n"
     ]
    }
   ],
   "source": [
    "# Calculate the error rate for and ensemble that has 21 independent models with 0.49 error rates\n",
    "ensemble_error_rate(21, 0.49)"
   ]
  },
  {
   "cell_type": "markdown",
   "id": "b2ac64bd",
   "metadata": {},
   "source": [
    "***Just for Fun: Ways to Visualize the Probabilities***"
   ]
  },
  {
   "cell_type": "markdown",
   "id": "4e4fc973",
   "metadata": {},
   "source": [
    "***Method 1:***"
   ]
  },
  {
   "cell_type": "code",
   "execution_count": 41,
   "id": "63bec1e8",
   "metadata": {},
   "outputs": [
    {
     "name": "stdout",
     "output_type": "stream",
     "text": [
      "r\tp(r)\n",
      "0\t0.0003909821048582986\n",
      "1\t0.004476346139296031\n",
      "2\t0.023295270724907946\n",
      "3\t0.07273829430430437\n",
      "4\t0.1514144085518173\n",
      "5\t0.22063242388979074\n",
      "6\t0.2296378289465168\n",
      "7\t0.1707220011118421\n",
      "8\t0.0888451230275913\n",
      "9\t0.030823818193245967\n",
      "10\t0.006416386644308338\n",
      "11\t0.0006071163615208261\n",
      "Mean=5.610\n",
      "Variance=2.749\n",
      "Std=1.658\n"
     ]
    }
   ],
   "source": [
    "# Print table with probabilities \n",
    "\n",
    "# Define values for n and p\n",
    "n = 11\n",
    "p = 0.51\n",
    "\n",
    "# defining the list of r values\n",
    "r_values = list(range(n + 1))\n",
    "\n",
    "# obtaining the mean and variance \n",
    "mean, var = binom.stats(n, p)\n",
    "\n",
    "# list of pmf values\n",
    "dist = [binom.pmf(r, n, p) for r in r_values ]\n",
    "\n",
    "# printing the table\n",
    "print(\"r\\tp(r)\")\n",
    "for i in range(n + 1):\n",
    "    print(str(r_values[i]) + \"\\t\" + str(dist[i]))\n",
    "    \n",
    "# printing mean, variance, and standard deviation\n",
    "print('Mean=%.3f\\nVariance=%.3f\\nStd=%.3f'%(mean,var,math.sqrt(var)))"
   ]
  },
  {
   "cell_type": "code",
   "execution_count": 15,
   "id": "be573d26",
   "metadata": {},
   "outputs": [
    {
     "data": {
      "image/png": "[encoded data removed]",
      "text/plain": [
       "<Figure size 432x288 with 1 Axes>"
      ]
     },
     "metadata": {
      "needs_background": "light"
     },
     "output_type": "display_data"
    }
   ],
   "source": [
    "# Plot the probabilities\n",
    "# list of pmf values\n",
    "dist = [binom.pmf(r, n, p) for r in r_values ]\n",
    "# plotting the graph \n",
    "plt.bar(r_values, dist)\n",
    "plt.show()"
   ]
  },
  {
   "cell_type": "markdown",
   "id": "d7f540cd",
   "metadata": {},
   "source": [
    "***Method 2:***"
   ]
  },
  {
   "cell_type": "code",
   "execution_count": 36,
   "id": "d82a8d8d",
   "metadata": {},
   "outputs": [
    {
     "name": "stdout",
     "output_type": "stream",
     "text": [
      "Mean=8.800\n",
      "Variance=1.760\n",
      "Std=1.327\n"
     ]
    }
   ],
   "source": [
    "# Define values for n and p\n",
    "n = 11\n",
    "p = 0.8\n",
    "\n",
    "# Calculate the first few moments\n",
    "mean, var, skew, kurt = binom.stats(n, p, moments='mvsk')\n",
    "print('Mean=%.3f\\nVariance=%.3f\\nStd=%.3f'%(mean,var,math.sqrt(var)))"
   ]
  },
  {
   "cell_type": "code",
   "execution_count": 37,
   "id": "180d6425",
   "metadata": {},
   "outputs": [
    {
     "data": {
      "text/plain": [
       "<matplotlib.collections.LineCollection at 0x1f3db1c0c40>"
      ]
     },
     "execution_count": 37,
     "metadata": {},
     "output_type": "execute_result"
    },
    {
     "data": {
      "image/png": "[encoded data removed]",
      "text/plain": [
       "<Figure size 432x288 with 1 Axes>"
      ]
     },
     "metadata": {
      "needs_background": "light"
     },
     "output_type": "display_data"
    }
   ],
   "source": [
    "# Display the probability mass function\n",
    "fig, ax = plt.subplots(1, 1)\n",
    "\n",
    "x = np.arange(binom.ppf(0.01, n, p), binom.ppf(0.99, n, p))\n",
    "ax.plot(x, binom.pmf(x, n, p), 'bo', ms=8, label='binom pmf')\n",
    "ax.vlines(x, 0, binom.pmf(x, n, p), colors='b', lw=5, alpha=0.5)"
   ]
  },
  {
   "cell_type": "code",
   "execution_count": 38,
   "id": "31ad9645",
   "metadata": {
    "scrolled": true
   },
   "outputs": [
    {
     "data": {
      "image/png": "[encoded data removed]",
      "text/plain": [
       "<Figure size 432x288 with 1 Axes>"
      ]
     },
     "metadata": {
      "needs_background": "light"
     },
     "output_type": "display_data"
    }
   ],
   "source": [
    "# Freeze the distribution and display the frozen pmf.\n",
    "fig, ax = plt.subplots(1, 1)\n",
    "rv = binom(n, p)\n",
    "ax.vlines(x, 0, rv.pmf(x), colors='k', linestyles='-', lw=1,\n",
    "         label='frozen pmf')\n",
    "ax.legend(loc='best', frameon=False)\n",
    "plt.show()"
   ]
  },
  {
   "cell_type": "code",
   "execution_count": 39,
   "id": "9cc58fe5",
   "metadata": {},
   "outputs": [
    {
     "data": {
      "text/plain": [
       "True"
      ]
     },
     "execution_count": 39,
     "metadata": {},
     "output_type": "execute_result"
    }
   ],
   "source": [
    "# Check accuracy of Cdf and Pdf\n",
    "prob = binom.cdf(x, n, p)\n",
    "np.allclose(x, binom.ppf(prob, n, p))"
   ]
  },
  {
   "cell_type": "code",
   "execution_count": 40,
   "id": "83f66d0b",
   "metadata": {
    "scrolled": false
   },
   "outputs": [
    {
     "data": {
      "text/plain": [
       "array([0.01165421, 0.05040957, 0.1611392 , 0.38259845, 0.67787745,\n",
       "       0.91410065])"
      ]
     },
     "execution_count": 40,
     "metadata": {},
     "output_type": "execute_result"
    }
   ],
   "source": [
    "prob"
   ]
  }
 ],
 "metadata": {
  "kernelspec": {
   "display_name": "Python 3",
   "language": "python",
   "name": "python3"
  },
  "language_info": {
   "codemirror_mode": {
    "name": "ipython",
    "version": 3
   },
   "file_extension": ".py",
   "mimetype": "text/x-python",
   "name": "python",
   "nbconvert_exporter": "python",
   "pygments_lexer": "ipython3",
   "version": "3.8.8"
  }
 },
 "nbformat": 4,
 "nbformat_minor": 5
}
